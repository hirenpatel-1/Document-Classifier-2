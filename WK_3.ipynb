{
 "cells": [
  {
   "cell_type": "markdown",
   "metadata": {},
   "source": [
    "# WK Doc-classifier Model \n",
    "[Preparatory work]"
   ]
  },
  {
   "cell_type": "code",
   "execution_count": 2,
   "metadata": {
    "collapsed": true
   },
   "outputs": [],
   "source": [
    "#for pretty print to all vars\n",
    "from IPython.core.interactiveshell import InteractiveShell\n",
    "#InteractiveShell.ast_node_interactivity = \"all\" #default=\"last_expr\"\n",
    "\n",
    "#to_display_any_htmls\n",
    "from IPython.core.display import display, HTML"
   ]
  },
  {
   "cell_type": "code",
   "execution_count": 3,
   "metadata": {
    "collapsed": false
   },
   "outputs": [
    {
     "name": "stdout",
     "output_type": "stream",
     "text": [
      "['AoI-275', 'MC-275', 'Others-275']  Total files read: 825\n"
     ]
    }
   ],
   "source": [
    "#Change dir to read dataset files from zip's extract\n",
    "import os\n",
    "os.chdir('C:/Users/mihir.parikh/Downloads/AoI-275/')\n",
    "files=list()\n",
    "categories=[fl for fl in os.listdir('.') if os.path.isdir(fl)]\n",
    "for folder in categories:\n",
    "        files+=[folder+'/'+p for p in os.listdir(folder)]\n",
    "print(categories,\" Total files read:\",len(files))"
   ]
  },
  {
   "cell_type": "code",
   "execution_count": 4,
   "metadata": {
    "collapsed": false
   },
   "outputs": [
    {
     "name": "stdout",
     "output_type": "stream",
     "text": [
      "43 files ignored. New Dataset has 782 files.\n"
     ]
    }
   ],
   "source": [
    "#preprocess file's text_contents before laoding to pandas dataframe\n",
    "import re\n",
    "dataF={'content':[],'catg':[]}\n",
    "newfiles=[]\n",
    "#adding to dataFrame after preprocessing:\n",
    "#    [remove 1st few not null lines, remove files of less than 10 chars, merge concurrent spaces lines]\n",
    "skip1stLines=2\n",
    "for fi in files:\n",
    "    with open(fi,encoding=\"utf8\") as f:\n",
    "        #print(\"for file\",fi)\n",
    "        PREPROC=f.read()\n",
    "        while PREPROC.count('  '):PREPROC=PREPROC.replace('  ',' ')\n",
    "        while PREPROC.count('\\n '):PREPROC=PREPROC.replace('\\n ','\\n')\n",
    "        while PREPROC.count(' \\n'):PREPROC=PREPROC.replace(' \\n','\\n')\n",
    "        while PREPROC.count('\\n\\n'):PREPROC=PREPROC.replace('\\n\\n','\\n')\n",
    "        PREPROC=' '.join(PREPROC.split('\\n')[0 if fi.startswith('Others') else skip1stLines:])\n",
    "        #PREPROC=re.sub(r\"\\d+(\\.\\d*)?\", r\"\",PREPROC) #remove all numbers (digits)\n",
    "        PREPROC=re.sub(r\"[(](\\S*?)[)]\", r\"\",PREPROC) #remove all b/w (brackets)\n",
    "        PREPROC=re.sub(r\"[^a-zA-Z ]\", r\"\",PREPROC) #remove all non alpha (brackets)\n",
    "        while PREPROC.count('  '):PREPROC=PREPROC.replace('  ',' ')\n",
    "        if len(PREPROC)<10:continue\n",
    "        dataF['content'].append(PREPROC)\n",
    "        dataF['catg'].append(fi.split('-')[0])\n",
    "        newfiles.append(fi)\n",
    "skippedfiles=list(set(files)-set(newfiles))\n",
    "print(len(skippedfiles),\"files ignored. New Dataset has\",len(newfiles),\"files.\")\n",
    "##check skip files of some catg\n",
    "#sorted(list(filter((lambda st:st.startswith('MC')),skippedfiles)))"
   ]
  },
  {
   "cell_type": "code",
   "execution_count": 5,
   "metadata": {
    "collapsed": false
   },
   "outputs": [
    {
     "name": "stdout",
     "output_type": "stream",
     "text": [
      "Others    275\n",
      "MC        265\n",
      "AoI       242\n",
      "Name: catg, dtype: int64\n"
     ]
    },
    {
     "data": {
      "text/html": [
       "<table border=\"1\" class=\"dataframe\">\n",
       "  <thead>\n",
       "    <tr style=\"text-align: right;\">\n",
       "      <th></th>\n",
       "      <th>catg</th>\n",
       "      <th>content</th>\n",
       "    </tr>\n",
       "  </thead>\n",
       "  <tbody>\n",
       "    <tr>\n",
       "      <th>507</th>\n",
       "      <td>Others</td>\n",
       "      <td>Hines Global REIT II Inc INQUIRY LETTER April...</td>\n",
       "    </tr>\n",
       "    <tr>\n",
       "      <th>508</th>\n",
       "      <td>Others</td>\n",
       "      <td>PNM Resources Inc INQUIRY LETTER January VIA ...</td>\n",
       "    </tr>\n",
       "    <tr>\n",
       "      <th>509</th>\n",
       "      <td>Others</td>\n",
       "      <td>Exhibit CERTIFICATION PURSUANT TO USC SECTION...</td>\n",
       "    </tr>\n",
       "    <tr>\n",
       "      <th>510</th>\n",
       "      <td>Others</td>\n",
       "      <td>Exhibit FOREVERGREEN WORLDWIDE CORPORATION CE...</td>\n",
       "    </tr>\n",
       "    <tr>\n",
       "      <th>511</th>\n",
       "      <td>Others</td>\n",
       "      <td>Exhibit CERTIFICATION PURSUANT TO SECTION OF ...</td>\n",
       "    </tr>\n",
       "  </tbody>\n",
       "</table>"
      ],
      "text/plain": [
       "<IPython.core.display.HTML object>"
      ]
     },
     "metadata": {},
     "output_type": "display_data"
    },
    {
     "data": {
      "text/html": [
       "<table border=\"1\" class=\"dataframe\">\n",
       "  <thead>\n",
       "    <tr style=\"text-align: right;\">\n",
       "      <th></th>\n",
       "      <th>catg</th>\n",
       "      <th>content</th>\n",
       "    </tr>\n",
       "  </thead>\n",
       "  <tbody>\n",
       "    <tr>\n",
       "      <th>242</th>\n",
       "      <td>MC</td>\n",
       "      <td>FIRST AMENDMENT TO ADMINISTRATIVE SERVICES AGR...</td>\n",
       "    </tr>\n",
       "    <tr>\n",
       "      <th>243</th>\n",
       "      <td>MC</td>\n",
       "      <td>AMENDMENT NO TO ADMINISTRATIVE SERVICES AGREEM...</td>\n",
       "    </tr>\n",
       "    <tr>\n",
       "      <th>244</th>\n",
       "      <td>MC</td>\n",
       "      <td>AMENDMENT NO TO ADMINISTRATIVE SERVICES AGREEM...</td>\n",
       "    </tr>\n",
       "    <tr>\n",
       "      <th>245</th>\n",
       "      <td>MC</td>\n",
       "      <td>FIFTH AMENDMENT TO LOAN AND SECURITY AGREEMENT...</td>\n",
       "    </tr>\n",
       "    <tr>\n",
       "      <th>246</th>\n",
       "      <td>MC</td>\n",
       "      <td>A LDEYRA T HERAPEUTICS I NC C HANGE IN C ONTRO...</td>\n",
       "    </tr>\n",
       "  </tbody>\n",
       "</table>"
      ],
      "text/plain": [
       "<IPython.core.display.HTML object>"
      ]
     },
     "metadata": {},
     "output_type": "display_data"
    },
    {
     "data": {
      "text/html": [
       "<table border=\"1\" class=\"dataframe\">\n",
       "  <thead>\n",
       "    <tr style=\"text-align: right;\">\n",
       "      <th></th>\n",
       "      <th>catg</th>\n",
       "      <th>content</th>\n",
       "    </tr>\n",
       "  </thead>\n",
       "  <tbody>\n",
       "    <tr>\n",
       "      <th>0</th>\n",
       "      <td>AoI</td>\n",
       "      <td>CERTIFICATE OF AMENDMENT TO ARTICLES OF INCORP...</td>\n",
       "    </tr>\n",
       "    <tr>\n",
       "      <th>1</th>\n",
       "      <td>AoI</td>\n",
       "      <td>CERTIFICATE OF AMENDMENT OF CERTIFICATE OF INC...</td>\n",
       "    </tr>\n",
       "    <tr>\n",
       "      <th>2</th>\n",
       "      <td>AoI</td>\n",
       "      <td>AMENDED AND RESTATED BYLAWS OF DIPEXIUM PHARMA...</td>\n",
       "    </tr>\n",
       "    <tr>\n",
       "      <th>3</th>\n",
       "      <td>AoI</td>\n",
       "      <td>BY LAWS of INTER PARFUMS INC changed from Jean...</td>\n",
       "    </tr>\n",
       "    <tr>\n",
       "      <th>4</th>\n",
       "      <td>AoI</td>\n",
       "      <td>REGISTRE DU COMMERCE DU CANTON DE FRIBOURG EXT...</td>\n",
       "    </tr>\n",
       "  </tbody>\n",
       "</table>"
      ],
      "text/plain": [
       "<IPython.core.display.HTML object>"
      ]
     },
     "metadata": {},
     "output_type": "display_data"
    }
   ],
   "source": [
    "#load to pandas dataframe and have a peek on each catg\n",
    "import pandas as pd\n",
    "df = pd.DataFrame.from_dict(dataF)\n",
    "print(df['catg'].value_counts())\n",
    "for k in df['catg'].value_counts().keys():display(HTML(df[(df['catg']==k)].head(5).to_html()))"
   ]
  },
  {
   "cell_type": "code",
   "execution_count": 6,
   "metadata": {
    "collapsed": false
   },
   "outputs": [
    {
     "name": "stdout",
     "output_type": "stream",
     "text": [
      "(467,) (315,) (467,) (315,)\n"
     ]
    }
   ],
   "source": [
    "#partial import of sklearn. will full load sub-modules as needed.\n",
    "import sklearn\n",
    "\n",
    "#split data for training and testing\n",
    "from sklearn.model_selection import train_test_split\n",
    "X=df['content']\n",
    "Y=df['catg']\n",
    "X_train, X_test, Y_train, Y_test = sklearn.model_selection.train_test_split(X, Y, test_size=0.402,random_state=402)\n",
    "print(X_train.shape,X_test.shape, Y_train.shape, Y_test.shape)\n",
    "#now data is ready"
   ]
  },
  {
   "cell_type": "markdown",
   "metadata": {},
   "source": [
    "### Multinomial NAIVE BAYES"
   ]
  },
  {
   "cell_type": "code",
   "execution_count": 7,
   "metadata": {
    "collapsed": false,
    "scrolled": false
   },
   "outputs": [
    {
     "name": "stdout",
     "output_type": "stream",
     "text": [
      "--> Accuracy\n",
      "TRAIN 0.9957173447537473\n",
      "TEST 0.9555555555555556\n",
      "--> Train MisClassification\n"
     ]
    },
    {
     "data": {
      "text/html": [
       "<table border=\"1\" class=\"dataframe\">\n",
       "  <thead>\n",
       "    <tr style=\"text-align: right;\">\n",
       "      <th>Train_Predicted</th>\n",
       "      <th>AoI</th>\n",
       "      <th>MC</th>\n",
       "      <th>Others</th>\n",
       "      <th>All</th>\n",
       "    </tr>\n",
       "    <tr>\n",
       "      <th>True</th>\n",
       "      <th></th>\n",
       "      <th></th>\n",
       "      <th></th>\n",
       "      <th></th>\n",
       "    </tr>\n",
       "  </thead>\n",
       "  <tbody>\n",
       "    <tr>\n",
       "      <th>AoI</th>\n",
       "      <td>153</td>\n",
       "      <td>0</td>\n",
       "      <td>0</td>\n",
       "      <td>153</td>\n",
       "    </tr>\n",
       "    <tr>\n",
       "      <th>MC</th>\n",
       "      <td>0</td>\n",
       "      <td>142</td>\n",
       "      <td>0</td>\n",
       "      <td>142</td>\n",
       "    </tr>\n",
       "    <tr>\n",
       "      <th>Others</th>\n",
       "      <td>0</td>\n",
       "      <td>2</td>\n",
       "      <td>170</td>\n",
       "      <td>172</td>\n",
       "    </tr>\n",
       "    <tr>\n",
       "      <th>All</th>\n",
       "      <td>153</td>\n",
       "      <td>144</td>\n",
       "      <td>170</td>\n",
       "      <td>467</td>\n",
       "    </tr>\n",
       "  </tbody>\n",
       "</table>"
      ],
      "text/plain": [
       "<IPython.core.display.HTML object>"
      ]
     },
     "metadata": {},
     "output_type": "display_data"
    },
    {
     "name": "stdout",
     "output_type": "stream",
     "text": [
      "X_Train.values[ 245 ] Predicted MC Actual Others File:[errI=544 Others-275/new 132.txt ]\n",
      "X_Train.values[ 285 ] Predicted MC Actual Others File:[errI=543 Others-275/new 131.txt ]\n",
      "2  misses in TrainData\n",
      "--> Test MisClassification\n"
     ]
    },
    {
     "data": {
      "text/html": [
       "<table border=\"1\" class=\"dataframe\">\n",
       "  <thead>\n",
       "    <tr style=\"text-align: right;\">\n",
       "      <th>Test_Predicted</th>\n",
       "      <th>AoI</th>\n",
       "      <th>MC</th>\n",
       "      <th>Others</th>\n",
       "      <th>All</th>\n",
       "    </tr>\n",
       "    <tr>\n",
       "      <th>True</th>\n",
       "      <th></th>\n",
       "      <th></th>\n",
       "      <th></th>\n",
       "      <th></th>\n",
       "    </tr>\n",
       "  </thead>\n",
       "  <tbody>\n",
       "    <tr>\n",
       "      <th>AoI</th>\n",
       "      <td>88</td>\n",
       "      <td>0</td>\n",
       "      <td>1</td>\n",
       "      <td>89</td>\n",
       "    </tr>\n",
       "    <tr>\n",
       "      <th>MC</th>\n",
       "      <td>2</td>\n",
       "      <td>120</td>\n",
       "      <td>1</td>\n",
       "      <td>123</td>\n",
       "    </tr>\n",
       "    <tr>\n",
       "      <th>Others</th>\n",
       "      <td>2</td>\n",
       "      <td>8</td>\n",
       "      <td>93</td>\n",
       "      <td>103</td>\n",
       "    </tr>\n",
       "    <tr>\n",
       "      <th>All</th>\n",
       "      <td>92</td>\n",
       "      <td>128</td>\n",
       "      <td>95</td>\n",
       "      <td>315</td>\n",
       "    </tr>\n",
       "  </tbody>\n",
       "</table>"
      ],
      "text/plain": [
       "<IPython.core.display.HTML object>"
      ]
     },
     "metadata": {},
     "output_type": "display_data"
    },
    {
     "name": "stdout",
     "output_type": "stream",
     "text": [
      "X_test.values[ 20 ] Predicted MC Actual Others File:[errI=625 Others-275/new 205.txt ]\n",
      "X_test.values[ 57 ] Predicted Others Actual AoI File:[errI=105 AoI-275/0001193794-03-000005-5.txt ]\n",
      "X_test.values[ 68 ] Predicted MC Actual Others File:[errI=545 Others-275/new 133.txt ]\n",
      "X_test.values[ 118 ] Predicted MC Actual Others File:[errI=580 Others-275/new 165.txt ]\n",
      "X_test.values[ 132 ] Predicted MC Actual Others File:[errI=537 Others-275/new 126.txt ]\n",
      "X_test.values[ 145 ] Predicted MC Actual Others File:[errI=578 Others-275/new 163.txt ]\n",
      "X_test.values[ 152 ] Predicted Others Actual MC File:[errI=305 MC-275/0001213900-17-003750-2.txt ]\n",
      "X_test.values[ 180 ] Predicted MC Actual Others File:[errI=547 Others-275/new 135.txt ]\n",
      "X_test.values[ 187 ] Predicted MC Actual Others File:[errI=559 Others-275/new 146.txt ]\n",
      "X_test.values[ 201 ] Predicted AoI Actual Others File:[errI=620 Others-275/new 200.txt ]\n",
      "X_test.values[ 208 ] Predicted AoI Actual MC File:[errI=500 MC-275/0001553350-17-000313-4.txt ]\n",
      "X_test.values[ 221 ] Predicted MC Actual Others File:[errI=582 Others-275/new 167.txt ]\n",
      "X_test.values[ 225 ] Predicted AoI Actual Others File:[errI=621 Others-275/new 201.txt ]\n",
      "X_test.values[ 262 ] Predicted AoI Actual MC File:[errI=407 MC-275/0001437749-17-005720-2.txt ]\n",
      "14  misses in TestData\n"
     ]
    }
   ],
   "source": [
    "#pipelining\n",
    "from sklearn.pipeline import Pipeline\n",
    "\n",
    "#naive_bayes\n",
    "from sklearn.feature_extraction.text import CountVectorizer\n",
    "from sklearn.feature_extraction.text import TfidfTransformer\n",
    "from sklearn.naive_bayes import MultinomialNB\n",
    "\n",
    "text_clf_nb = Pipeline([('vect', CountVectorizer(stop_words='english',ngram_range=(1,3), )),\n",
    "                     ('tfidf', TfidfTransformer()),\n",
    "                     ('clf', MultinomialNB(alpha=0.01))\n",
    "                    ])\n",
    "\n",
    "#fit_transforms of data to pipeline\n",
    "fit_nb=text_clf_nb.fit(X_train,Y_train)\n",
    "\n",
    "#testing model\n",
    "print(\"--> Accuracy\")\n",
    "print(\"TRAIN\",text_clf_nb.score(X_train,Y_train))\n",
    "print(\"TEST\",text_clf_nb.score(X_test,Y_test))\n",
    "\n",
    "#misClassifications\n",
    "print(\"--> Train MisClassification\")\n",
    "TRpredicted_nb = text_clf_nb.predict(X_train)\n",
    "misClTr_nb=list()\n",
    "#sklearn.metrics.confusion_matrix\n",
    "display(HTML(pd.crosstab(Y_train,TRpredicted_nb,rownames=[\"True\"],colnames=[\"Train_Predicted\"],margins=True).to_html()))\n",
    "for i in range(len(TRpredicted_nb)):\n",
    "    if TRpredicted_nb[i]!=Y_train.iloc[i]:\n",
    "        print(\"X_Train.values[\",i,\"] Predicted\",TRpredicted_nb[i],\"Actual\",Y_train.iloc[i],\n",
    "              \"File:[errI=\"+str(X_train.index[i]),newfiles[X_train.index[i]],\"]\")\n",
    "        misClTr_nb.append(i)\n",
    "print(len(misClTr_nb),\" misses in TrainData\")\n",
    "print(\"--> Test MisClassification\")\n",
    "TSpredicted_nb = text_clf_nb.predict(X_test)\n",
    "misClTs_nb=list()\n",
    "#sklearn.metrics.confusion_matrix\n",
    "display(HTML(pd.crosstab(Y_test,TSpredicted_nb,rownames=[\"True\"],colnames=[\"Test_Predicted\"],margins=True).to_html()))\n",
    "for i in range(len(TSpredicted_nb)):\n",
    "    if TSpredicted_nb[i]!=Y_test.iloc[i]:\n",
    "        print(\"X_test.values[\",i,\"] Predicted\",TSpredicted_nb[i],\"Actual\",Y_test.iloc[i],\n",
    "              \"File:[errI=\"+str(X_test.index[i]),newfiles[X_test.index[i]],\"]\")\n",
    "        misClTs_nb.append(i)\n",
    "print(len(misClTs_nb),\" misses in TestData\")\n"
   ]
  },
  {
   "cell_type": "code",
   "execution_count": 8,
   "metadata": {
    "collapsed": false
   },
   "outputs": [
    {
     "name": "stdout",
     "output_type": "stream",
     "text": [
      "543 TRAINdata Others-275/new 131.txt  NEITHER THIS SECURITY NOR THE SECURITIES FOR WHICH THIS SECURITY IS EXERCISABLE HAVE BEEN REGISTERED WITH THE SECURITIES AND EXCHANGE COMMISSION OR THE SECURITIES COMMISSION OF ANY STATE IN RELIANCE UPON AN EXEMPTION FROM REGISTRATION UNDER THE SECURITIES ACT OF AS AMENDED THE SECURITIES ACT AND ACCORDINGLY MAY NOT BE OFFERED OR SOLD EXCEPT PURSUANT TO AN EFFECTIVE REGISTRATION STATEMENT UNDER THE SECURITIES ACT OR PURSUANT TO AN AVAILABLE EXEMPTION FROM OR IN A TRANSACTION NOT SUBJECT TO THE REGISTRATION REQUIREMENTS OF THE SECURITIES ACT AND IN ACCORDANCE WITH APPLICABLE STATE SECURITIES LAWS THIS SECURITY AND THE SECURITIES ISSUABLE UPON EXERCISE OF THIS SECURITY MAY BE PLEDGED IN CONNECTION WITH A BONA FIDE MARGIN ACCOUNT OR OTHER LOAN SECURED BY SUCH SECURITIES COMMON STOCK PURCHASE WARRANT AIR INDUSTRIES GROUP Warrant Shares Initial Exercise Date April THIS COMMON STOCK PURCHASE WARRANT the Warrant certifies that for value received Taglich Brothers Inc or its assigns the Holder is entitled upon the terms and subject to the limitations on exercise and the conditions hereinafter set forth at any time on or after April the Initial Exercise Date and on or prior to the close of business on May the Termination Date but not thereafter to subscribe for and purchase from Air Industries Group a Nevada corporation the Company up to shares as subject to adjustment hereunder the Warrant Shares of the Companys common stock Common Stock The purchase price of one share of Common Stock under this Warrant shall be equal to the Exercise Price as defined in Section Section Definitions In addition to the terms defined elsewhere in this Agreement the following terms have the meanings indicated in this Section Affiliate means any Person that directly or indirectly through one or more intermediaries controls or is controlled by or is under common control with a Person as such terms are used in and construed under Rule under the Securities Act Board of Directors means the board of directors of the Company Business Day means any day except any Saturday any Sunday any day which is a federal legal holiday in the United States or any day on which banking institutions in the State of New York are authorized or required by law or other governmental action to close Commission means the United States Securities and Exchange Commission Exchange Act means the Securities Exchange Act of as amended and the rules and regulations promulgated thereunder Liens means a lien charge pledge security interest encumbrance right of first refusal preemptive right or other restriction Person means an individual or corporation partnership trust incorporated or unincorporated association joint venture limited liability company joint stock company government or an agency or subdivision thereof or other entity of any kind Proceeding means an action claim suit investigation or proceeding including without limitation an informal investigation or partial proceeding such as a deposition whether commenced or threatened Rule means Rule promulgated by the Commission pursuant to the Securities Act as such Rule may be amended or interpreted from time to time or any similar rule or regulation hereafter adopted by the Commission having substantially the same purpose and effect as such Rule Securities Act means the Securities Act of as amended and the rules and regulations promulgated thereunder Trading Day means a day on which the Common Stock is traded on a Trading Market Trading Market means any of the following markets or exchanges on which the Common Stock is listed or quoted for trading on the date in question the NYSE MKT the Nasdaq Capital Market the Nasdaq Global Market the Nasdaq Global Select Market the New York Stock Exchange or the OTCQB or OTCQX or any successors to any of the foregoing Transfer Agent means Broadridge Corporate Issuer Solutions Inc the current transfer agent of the Company with a mailing address of PO Box Brentwood New York and a facsimile number of and any successor transfer agent of the Company VWAP means for any date the price determined by the first of the following clauses that applies if the Common Stock is then listed or quoted on a Trading Market the daily volume weighted average price of the Common Stock for such date or the nearest preceding date on the Trading Market on which the Common Stock is then listed or quoted as reported by Bloomberg LP based on a Trading Day from am New York City time to pm New York City time if the OTCQB or OTCQX is not a Trading Market the volume weighted average price of the Common Stock for such date or the nearest preceding date on the OTCQB or OTCQX if the Common Stock is not then listed or quoted for trading on the OTCQB or OTCQX and if prices for the Common Stock are then reported in the Pink Sheets published by Pink OTC Markets Group Inc or a similar organization or agency succeeding to its functions of reporting prices the most recent bid price per share of the Common Stock so reported or in all other cases the fair market value of a share of Common Stock as determined by an independent appraiser selected in good faith by the Holder and reasonably acceptable to the Company the fees and expenses of which shall be paid by the Company Section Exercise a Vesting This Warrant shall vest and become exercisable with respect to shares of Common Stock commencing on April the Initial Exercise Date a cumulative total of Warrants Shares commencing on July a cumulative total of Warrants Shares commencing on October and as to all Warrants Shares commencing on January b Procedure for Exercise of Warrant Exercise of the purchase rights represented by this Warrant may be made in whole or in part at any time or times on or after the Initial Exercise Date and on or before the Termination Date by delivery to the Company or such other office or agency of the Company as it may designate by notice in writing to the registered Holder at the address of the Holder appearing on the books of the Company of a duly executed facsimile copy or email attachment of the Notice of Exercise form annexed hereto Within three Trading Days following the date of exercise as aforesaid the Holder shall deliver the aggregate Exercise Price for the shares specified in the applicable Notice of Exercise by wire transfer or cashiers check drawn on a United States bank unless the cashless exercise procedure specified in Section below is specified in the applicable Notice of Exercise No inkoriginal Notice of Exercise shall be required nor shall any medallion guarantee or other type of guarantee or notarization of any Notice of Exercise form be required Notwithstanding anything herein to the contrary the Holder shall not be required to physically surrender this Warrant to the Company until the Holder has purchased all of the Warrant Shares available hereunder and the Warrant has been exercised in full in which case the Holder shall surrender this Warrant to the Company for cancellation within three Trading Days of the date the final Notice of Exercise is delivered to the Company Partial exercises of this Warrant resulting in purchases of a portion of the total number of Warrant Shares available hereunder shall have the effect of lowering the outstanding number of Warrant Shares purchasable hereunder in an amount equal to the applicable number of Warrant Shares purchased The Holder and the Company shall maintain records showing the number of Warrant Shares purchased and the date of such purchases The Company shall deliver any objection to any Notice of Exercise within one Business Day of receipt of such notice The Holder and any assignee by acceptance of this Warrant acknowledge and agree that by reason of the provisions of this paragraph following the purchase of a portion of the Warrant Shares hereunder the number of Warrant Shares available for purchase hereunder at any given time may be less than the amount stated on the face hereof c Exercise Price The exercise price per share of the Common Stock under this Warrant shall be subject to adjustment hereunder the Exercise Price d Cashless Exercise If at the time of exercise hereof there is no effective registration statement registering for sale or resale the Warrant Shares then this Warrant may also be exercised in whole or in part at such time by means of a cashless exercise in which the Holder shall be entitled to receive a number of Warrant Shares equal to the quotient obtained by dividing by where the last VWAP immediately preceding the time of delivery of the Notice of Exercise giving rise to the applicable cashless exercise as set forth in the applicable Notice of Exercise to clarify the last VWAP will be the last VWAP as calculated over an entire Trading Day such that in the event that this Warrant is exercised at a time that the Trading Market is open the prior Trading Days VWAP shall be used in this calculation the Exercise Price of this Warrant as adjusted hereunder and the number of Warrant Shares that would be issuable upon exercise of this Warrant in accordance with the terms of this Warrant if such exercise were by means of a cash exercise rather than a cashless exercise If Warrant Shares are issued in such a cashless exercise the parties acknowledge and agree that in accordance with Section of the Securities Act the Warrant Shares shall take on the registered characteristics of the Warrants being exercised and the holding period of the Warrants being exercised may be tacked on to the holding period of the Warrant Shares The Company agrees not to take any position contrary to this Section e Mechanics of Exercise i Delivery of Warrant Shares Upon Exercise The Company shall cause the Warrant Shares purchased hereunder to be transmitted by the Transfer Agent to the Holder by crediting the account of the Holders or its designees balance account with The Depository Trust Company through its Deposit or Withdrawal at Custodian system if the Company is then a participant in such system and either there is an effective registration statement permitting the issuance of the Warrant Shares to or resale of the Warrant Shares by Holder or this Warrant is being exercised via cashless exercise and otherwise by physical delivery of a certificate registered in the Companys share register in the name of the holder or its designee for the number of Warrant Shares to which the Holder is entitled pursuant to such exercise to the address specified by the Holder in the Notice of Exercise by the date that is three Trading Days after the delivery to the Company of the Notice of Exercise such date the Warrant Share Delivery Date Upon delivery of the Notice of Exercise the Holder shall be deemed for all corporate purposes to have become the holder of record of the Warrant Shares with respect to which this Warrant has been exercised irrespective of the date of delivery of the Warrant Shares provided payment of the aggregate Exercise Price other than in the case of a Cashless Exercise is received within three Trading Days of delivery of the Notice of Exercise The Company agrees to maintain a transfer agent that is a participant in the FAST program so long as this warrant remains outstanding and exercisable ii Delivery of New Warrants Upon Exercise If this Warrant shall have been exercised in part the Company shall at the request of a Holder and upon surrender of this Warrant certificate at the time of delivery of the Warrant Shares deliver to the Holder a new Warrant evidencing the rights of the Holder to purchase the unpurchased Warrant Shares called for by this Warrant which new Warrant shall in all other respects be identical with this Warrant iii Rescission Rights If the Company fails to cause the Transfer Agent to transmit to the Holder the Warrant Shares pursuant to Section by the Warrant Share Delivery Date then the Holder will have the right to rescind such exercise iv Compensation for BuyIn on Failure to Timely Deliver Warrant Shares Upon Exercise In addition to any other rights available to the Holder if the Company fails to cause the Transfer Agent to transmit to the Holder the Warrant Shares in accordance with the provisions of Section above pursuant to an exercise on or before the Warrant Share Delivery Date and if after such date the Holder is required by its broker to purchase in an open market transaction or otherwise or the Holders brokerage firm otherwise purchases shares of Common Stock to deliver in satisfaction of a sale by the Holder of the Warrant Shares which the Holder anticipated receiving upon such exercise a BuyIn then the Company shall pay in cash to the Holder the amount if any by which the Holders total purchase price including brokerage commissions if any for the shares of Common Stock so purchased exceeds the amount obtained by multiplying the number of Warrant Shares that the Company was required to deliver to the Holder in connection with the exercise at issue times the price at which the sell order giving rise to such purchase obligation was executed and at the option of the Holder either reinstate the portion of the Warrant and equivalent number of Warrant Shares for which such exercise was not honored in which case such exercise shall be deemed rescinded or deliver to the Holder the number of shares of Common Stock that would have been issued had the Company timely complied with its exercise and delivery obligations hereunder For example if the Holder purchases Common Stock having a total purchase price of to cover a BuyIn with respect to an attempted exercise of shares of Common Stock with an aggregate sale price giving rise to such purchase obligation of under clause of the immediately preceding sentence the Company shall be required to pay the Holder The Holder shall provide the Company written notice indicating the amounts payable to the Holder in respect of the BuyIn and upon request of the Company evidence of the amount of such loss Nothing herein shall limit a Holders right to pursue any other remedies available to it hereunder at law or in equity including without limitation a decree of specific performance andor injunctive relief with respect to the Companys failure to timely deliver shares of Common Stock upon exercise of the Warrant as required pursuant to the terms hereof v No Fractional Shares or Scrip No fractional shares or scrip representing fractional shares shall be issued upon the exercise of this Warrant As to any fraction of a share which the Holder would otherwise be entitled to purchase upon such exercise the Company shall at its election either pay a cash adjustment in respect of such final fraction in an amount equal to such fraction multiplied by the Exercise Price or round up to the next whole share vi Charges Taxes and Expenses Issuance of Warrant Shares shall be made without charge to the Holder for any issue or transfer tax or other incidental expense in respect of the issuance of such Warrant Shares all of which taxes and expenses shall be paid by the Company and such Warrant Shares shall be issued in the name of the Holder or in such name or names as may be directed by the Holder provided however that in the event Warrant Shares are to be issued in a name other than the name of the Holder this Warrant when surrendered for exercise shall be accompanied by the Assignment Form attached hereto duly executed by the Holder and the Company may require as a condition thereto the payment of a sum sufficient to reimburse it for any transfer tax incidental thereto The Company shall pay all Transfer Agent fees required for sameday processing of any Notice of Exercise and all fees to the Depository Trust Company or another established clearing corporation performing similar functions required for sameday electronic delivery of the Warrant Shares vii Closing of Books The Company will not close its stockholder books or records in any manner which prevents the timely exercise of this Warrant pursuant to the terms hereof Section Certain Adjustments a Stock Dividends and Splits If the Company at any time while this Warrant is outstanding pays a stock dividend or otherwise makes a distribution or distributions on shares of its Common Stock or any other equity or equity equivalent securities payable in shares of Common Stock which for avoidance of doubt shall not include any shares of Common Stock issued by the Company upon exercise of this Warrant subdivides outstanding shares of Common Stock into a larger number of shares combines including by way of reverse stock split outstanding shares of Common Stock into a smaller number of shares or issues by reclassification of shares of the Common Stock any shares of capital stock of the Company then in each case the Exercise Price shall be multiplied by a fraction of which the numerator shall be the number of shares of Common Stock excluding treasury shares if any outstanding immediately before such event and of which the denominator shall be the number of shares of Common Stock outstanding immediately after such event and the number of shares issuable upon exercise of this Warrant shall be proportionately adjusted such that the aggregate Exercise Price of this Warrant shall remain unchanged Any adjustment made pursuant to this Section shall become effective immediately after the record date for the determination of stockholders entitled to receive such dividend or distribution and shall become effective immediately after the effective date in the case of a subdivision combination or reclassification b Subsequent Rights Offerings In addition to any adjustments pursuant to Section above if at any time the Company grants issues or sells any Common Stock Equivalents or rights to purchase stock warrants securities or other property pro rata to the record holders of any class of shares of Common Stock the Purchase Rights then the Holder will be entitled to acquire upon the terms applicable to such Purchase Rights the aggregate Purchase Rights which the Holder could have acquired if the Holder had held the number of shares of Common Stock acquirable upon complete exercise of this Warrant immediately before the date on which a record is taken for the grant issuance or sale of such Purchase Rights or if no such record is taken the date as of which the record holders of shares of Common Stock are to be determined for the grant issue or sale of such Purchase Rights c Pro Rata Distributions During such time as this Warrant is outstanding if the Company shall declare or make any dividend or other distribution of its assets or rights to acquire its assets to holders of shares of Common Stock by way of return of capital or otherwise including without limitation any distribution of cash stock or other securities property or options by way of a dividend spin off reclassification corporate rearrangement scheme of arrangement or other similar transaction a Distribution at any time after the issuance of this Warrant then in each such case the Holder shall be entitled to participate in such Distribution to the same extent that the Holder would have participated therein if the Holder had held the number of shares of Common Stock acquirable upon complete exercise of this Warrant immediately before the date of which a record is taken for such Distribution or if no such record is taken the date as of which the record holders of shares of Common Stock are to be determined for the participation in such Distribution d Fundamental Transaction If at any time while this Warrant is outstanding the Company directly or indirectly in one or more related transactions effects any merger or consolidation of the Company with or into another Person the Company directly or indirectly effects any sale lease license assignment transfer conveyance or other disposition of all or substantially all of its assets in one or a series of related transactions any direct or indirect purchase offer tender offer or exchange offer whether by the Company or another Person is completed pursuant to which holders of Common Stock are permitted to sell tender or exchange their shares for other securities cash or property and has been accepted by the holders of or more of the outstanding Common Stock the Company directly or indirectly in one or more related transactions effects any reclassification reorganization or recapitalization of the Common Stock or any compulsory share exchange pursuant to which the Common Stock is effectively converted into or exchanged for other securities cash or property or the Company directly or indirectly in one or more related transactions consummates a stock or share purchase agreement or other business combination including without limitation a reorganization recapitalization spinoff or scheme of arrangement with another Person or group of Persons whereby such other Person or group acquires more than of the outstanding shares of Common Stock not including any shares of Common Stock held by the other Person or other Persons making or party to or associated or affiliated with the other Persons making or party to such stock or share purchase agreement or other business combination each a Fundamental Transaction then upon any subsequent exercise of this Warrant the Holder shall have the right to receive for each Warrant Share that would have been issuable upon such exercise immediately prior to the occurrence of such Fundamental Transaction at the option of the Holder without regard to any limitation in Section on the exercise of this Warrant the number of shares of Common Stock of the successor or acquiring corporation or of the Company if it is the surviving corporation and any additional consideration the Alternate Consideration receivable as a result of such Fundamental Transaction by a holder of the number of shares of Common Stock for which this Warrant is exercisable immediately prior to such Fundamental Transaction without regard to any limitation in Section on the exercise of this Warrant For purposes of any such exercise the determination of the Exercise Price shall be appropriately adjusted to apply to such Alternate Consideration based on the amount of Alternate Consideration issuable in respect of one share of Common Stock in such Fundamental Transaction and the Company shall apportion the Exercise Price among the Alternate Consideration in a reasonable manner reflecting the relative value of any different components of the Alternate Consideration If holders of Common Stock are given any choice as to the securities cash or property to be received in a Fundamental Transaction then the Holder shall be given the same choice as to the Alternate Consideration it receives upon any exercise of this Warrant following such Fundamental Transaction The Company shall cause any successor entity in a Fundamental Transaction in which the Company is not the survivor the Successor Entity to assume in writing all of the obligations of the Company under this Warrant and the other Transaction Documents in accordance with the provisions of this Section pursuant to written agreements in form and substance reasonably satisfactory to the Holder and approved by the Holder without unreasonable delay prior to such Fundamental Transaction and shall at the option of the Holder deliver to the Holder in exchange for this Warrant a security of the Successor Entity evidenced by a written instrument substantially similar in form and substance to this Warrant which is exercisable for a corresponding number of shares of capital stock of such Successor Entity or its parent entity equivalent to the shares of Common Stock acquirable and receivable upon exercise of this Warrant without regard to any limitations on the exercise of this Warrant prior to such Fundamental Transaction and with an exercise price which applies the exercise price hereunder to such shares of capital stock but taking into account the relative value of the shares of Common Stock pursuant to such Fundamental Transaction and the value of such shares of capital stock such number of shares of capital stock and such exercise price being for the purpose of protecting the economic value of this Warrant immediately prior to the consummation of such Fundamental Transaction and which is reasonably satisfactory in form and substance to the Holder Upon the occurrence of any such Fundamental Transaction the Successor Entity shall succeed to and be substituted for so that from and after the date of such Fundamental Transaction the provisions of this Warrant and the other Transaction Documents referring to the Company shall refer instead to the Successor Entity and may exercise every right and power of the Company and shall assume all of the obligations of the Company under this Warrant and the other Transaction Documents with the same effect as if such Successor Entity had been named as the Company herein e Calculations All calculations under this Section shall be made to the nearest cent or the nearest th of a share as the case may be For purposes of this Section the number of shares of Common Stock deemed to be issued and outstanding as of a given date shall be the sum of the number of shares of Common Stock excluding treasury shares if any issued and outstanding f Notice to Holder i Adjustment to Exercise Price Whenever the Exercise Price is adjusted pursuant to any provision of this Section the Company shall promptly deliver to the Holder by facsimile or email a notice setting forth the Exercise Price after such adjustment and any resulting adjustment to the number of Warrant Shares and setting forth a brief statement of the facts requiring such adjustment ii Notice to Allow Exercise by Holder If the Company shall declare a dividend or any other distribution in whatever form on the Common Stock the Company shall declare a special nonrecurring cash dividend on or a redemption of the Common Stock the Company shall authorize the granting to all holders of the Common Stock rights or warrants to subscribe for or purchase any shares of capital stock of any class or of any rights the approval of any stockholders of the Company shall be required in connection with any reclassification of the Common Stock any consolidation or merger to which the Company is a party any sale or transfer of all or substantially all of the assets of the Company or any compulsory share exchange whereby the Common Stock is converted into other securities cash or property or the Company shall authorize the voluntary or involuntary dissolution liquidation or winding up of the affairs of the Company then in each case the Company shall cause to be delivered by facsimile or email to the Holder at its last facsimile number or email address as it shall appear upon the Warrant Register of the Company at least calendar days prior to the applicable record or effective date hereinafter specified a notice stating the date on which a record is to be taken for the purpose of such dividend distribution redemption rights or warrants or if a record is not to be taken the date as of which the holders of the Common Stock of record to be entitled to such dividend distributions redemption rights or warrants are to be determined or the date on which such reclassification consolidation merger sale transfer or share exchange is expected to become effective or close and the date as of which it is expected that holders of the Common Stock of record shall be entitled to exchange their shares of the Common Stock for securities cash or other property deliverable upon such reclassification consolidation merger sale transfer or share exchange provided that the failure to deliver such notice or any defect therein or in the delivery thereof shall not affect the validity of the corporate action required to be specified in such notice The Holder shall remain entitled to exercise this Warrant during the period commencing on the date of such notice to the effective date of the event triggering such notice except as may otherwise be expressly set forth herein Section Transfer of Warrant a Transferability Subject to compliance with any applicable securities laws and the conditions set forth in Section hereof this Warrant and all rights hereunder including without limitation any registration rights are transferable in whole or in part upon surrender of this Warrant at the principal office of the Company or its designated agent together with a written assignment of this Warrant substantially in the form attached hereto duly executed by the Holder or its agent or attorney and funds sufficient to pay any transfer taxes payable upon the making of such transfer Upon such surrender and if required such payment the Company shall execute and deliver a new Warrant or Warrants in the name of the assignee or assignees as applicable and in the denomination or denominations specified in such instrument of assignment and shall issue to the assignor a new Warrant evidencing the portion of this Warrant not so assigned and this Warrant shall promptly be cancelled The Warrant if properly assigned in accordance herewith may be exercised by a new holder for the purchase of Warrant Shares without having a new Warrant issued b New Warrants This Warrant may be divided or combined with other Warrants upon presentation hereof at the aforesaid office of the Company together with a written notice specifying the names and denominations in which new Warrants are to be issued signed by the Holder or its agent or attorney Subject to compliance with Section as to any transfer which may be involved in such division or combination the Company shall execute and deliver a new Warrant or Warrants in exchange for the Warrant or Warrants to be divided or combined in accordance with such notice All Warrants issued on transfers or exchanges shall be dated the Initial Exercise Date and shall be identical with this Warrant except as to the number of Warrant Shares issuable pursuant thereto c Warrant Register The Company shall register this Warrant upon records to be maintained by the Company for that purpose the Warrant Register in the name of the record Holder hereof from time to time The Company may deem and treat the registered Holder of this Warrant as the absolute owner hereof for the purpose of any exercise hereof or any distribution to the Holder and for all other purposes absent actual notice to the contrary d Transfer Restrictions If at the time of the surrender of this Warrant in connection with any transfer of this Warrant the transfer of this Warrant shall not be either registered pursuant to an effective registration statement under the Securities Act and under applicable state securities or blue sky laws or eligible for resale without volume or mannerofsale restrictions or current public information requirements pursuant to Rule the Company may require as a condition of allowing such transfer that the Holder or transferee of this Warrant as the case may be provides to the Company an opinion of counsel the form and substance of which opinion shall be reasonably satisfactory to the Company to the effect that the transfer of this Warrant does not require registration under the Securities Act Neither this Warrant nor the Warrant Shares and any other securities issuable upon exercise hereof may be transferred whether by sale assignment gift or otherwise by the Holder prior to July such period the Restriction Period except for transfers to employees of the original Holder who will be subject to the provisions of this subsection The Holder will not offer sell contract to sell hypothecate pledge or otherwise dispose of or enter into any transaction which is designed to or might reasonably be expected to result in the disposition whether by actual disposition or effective economic disposition due to cash settlement or otherwise by the Holder of this Warrant the Warrant Shares and any other securities issuable upon exercise hereof e Representation by the Holder The Holder by the acceptance hereof represents and warrants that it is acquiring this Warrant and upon any exercise hereof will acquire the Warrant Shares issuable upon such exercise for its own account and not with a view to or for distributing or reselling such Warrant Shares or any part thereof in violation of the Securities Act or any applicable state securities law except pursuant to sales registered or exempted under the Securities Act Section Miscellaneous a No Rights as Stockholder Until Exercise This Warrant does not entitle the Holder to any voting rights dividends or other rights as a stockholder of the Company prior to the exercise hereof as set forth in Section except as expressly set forth in Section b Loss Theft Destruction or Mutilation of Warrant The Company covenants that upon receipt by the Company of evidence reasonably satisfactory to it of the loss theft destruction or mutilation of this Warrant or any stock certificate relating to the Warrant Shares and in case of loss theft or destruction of indemnity or security reasonably satisfactory to it which in the case of the Warrant shall not include the posting of any bond and upon surrender and cancellation of such Warrant or stock certificate if mutilated the Company will make and deliver a new Warrant or stock certificate of like tenor and dated as of such cancellation in lieu of such Warrant or stock certificate c Saturdays Sundays Holidays etc If the last or appointed day for the taking of any action or the expiration of any right required or granted herein shall not be a Business Day then such action may be taken or such right may be exercised on the next succeeding Business Day d Authorized Shares The Company covenants that during the period the Warrant is outstanding it will reserve from its authorized and unissued Common Stock a sufficient number of shares to provide for the issuance of the Warrant Shares upon the exercise of any purchase rights under this Warrant The Company further covenants that its issuance of this Warrant shall constitute full authority to its officers who are charged with the duty of executing stock certificates to execute and issue the necessary Warrant Shares upon the exercise of the purchase rights under this Warrant The Company will take all such reasonable action as may be necessary to assure that such Warrant Shares may be issued as provided herein without violation of any applicable law or regulation or of any requirements of the Trading Market upon which the Common Stock may be listed The Company covenants that all Warrant Shares which may be issued upon the exercise of the purchase rights represented by this Warrant will upon exercise of the purchase rights represented by this Warrant and payment for such Warrant Shares in accordance herewith be duly authorized validly issued fully paid and nonassessable and free from all taxes liens and charges created by the Company in respect of the issue thereof other than taxes in respect of any transfer occurring contemporaneously with such issue Except and to the extent as waived or consented to by the Holder the Company shall not by any action including without limitation amending its certificate of incorporation or through any reorganization transfer of assets consolidation merger dissolution issue or sale of securities or any other voluntary action avoid or seek to avoid the observance or performance of any of the terms of this Warrant but will at all times in good faith assist in the carrying out of all such terms and in the taking of all such actions as may be necessary or appropriate to protect the rights of Holder as set forth in this Warrant against impairment Without limiting the generality of the foregoing the Company will not increase the par value of any Warrant Shares above the amount payable therefor upon such exercise immediately prior to such increase in par value take all such action as may be necessary or appropriate in order that the Company may validly and legally issue fully paid and nonassessable Warrant Shares upon the exercise of this Warrant and use commercially reasonable efforts to obtain all such authorizations exemptions or consents from any public regulatory body having jurisdiction thereof as may be necessary to enable the Company to perform its obligations under this Warrant Before taking any action which would result in an adjustment in the number of Warrant Shares for which this Warrant is exercisable or in the Exercise Price the Company shall obtain all such authorizations or exemptions thereof or consents thereto as may be necessary from any public regulatory body or bodies having jurisdiction thereof e Governing Law All questions concerning the construction validity enforcement and interpretation of this Warrant shall be governed by and construed and enforced in accordance with the internal laws of the State of New York without regard to the principles of conflict of laws thereof Each party agrees that all legal proceedings concerning the interpretation enforcement and defense of this Warrant shall be commenced in the state and federal courts sitting in the City of New York Borough of Manhattan the New York Courts Each party hereto hereby irrevocably submits to the exclusive jurisdiction of the New York Courts for the adjudication of any dispute hereunder or in connection herewith or with any transaction contemplated hereby or discussed herein including with respect to the enforcement of any of the Transaction Documents and hereby irrevocably waives and agrees not to assert in any suit action or proceeding any claim that it is not personally subject to the jurisdiction of such New York Courts or such New York Courts are improper or inconvenient venue for such proceeding Each party hereto hereby irrevocably waives to the fullest extent permitted by applicable law any and all right to trial by jury in any legal proceeding arising out of or relating to this Warrant If any party shall commence an action or proceeding to enforce any provisions of this Warrant then the prevailing party in such action or proceeding shall be reimbursed by the other party for its attorneys fees and other costs and expenses incurred in the investigation preparation and prosecution of such action or proceeding f Restrictions The Holder acknowledges that the Warrant Shares acquired upon the exercise of this Warrant if not registered and the Holder does not utilize cashless exercise will have restrictions upon resale imposed by state and federal securities laws g Nonwaiver and Expenses No course of dealing or any delay or failure to exercise any right hereunder on the part of Holder shall operate as a waiver of such right or otherwise prejudice the Holders rights powers or remedies notwithstanding the fact that all rights hereunder terminate on the Termination Date If the Company willfully and knowingly fails to comply with any provision of this Warrant which results in any material damages to the Holder the Company shall pay to the Holder such amounts as shall be sufficient to cover any costs and expenses including but not limited to reasonable attorneys fees including those of appellate proceedings incurred by the Holder in collecting any amounts due pursuant hereto or in otherwise enforcing any of its rights powers or remedies hereunder a Notices Any and all notices or other communications or deliveries to be provided by the Holders hereunder including without limitation any Notice of Exercise shall be in writing and delivered personally by facsimile or sent by a nationally recognized overnight courier service addressed to the Company at the address set forth above Attention Daniel R Godin facsimile number email address kpetersenairindustriesgroupcom with a copy to Daniel R Godin at Dgodinairindustriesgroupcom or such other facsimile number email address or address as the Company may specify for such purposes by notice to the Holders Any and all notices or other communications or deliveries to be provided by the Company hereunder shall be in writing and delivered personally by facsimile or sent by a nationally recognized overnight courier service addressed to each Holder at the facsimile number or address of such Holder appearing on the books of the Company or if no such facsimile number or address appears on the books of the Company Any notice or other communication or deliveries hereunder shall be deemed given and effective on the earliest of the date of transmission if such notice or communication is delivered via facsimile at the facsimile number set forth in this Section prior to pm New York City time on any date the next Trading Day after the date of transmission if such notice or communication is delivered via facsimile at the facsimile number set forth in this Section on a day that is not a Trading Day or later than pm New York City time on any Trading Day the second Trading Day following the date of mailing if sent by US nationally recognized overnight courier service or upon actual receipt by the party to whom such notice is required to be given h Limitation of Liability No provision hereof in the absence of any affirmative action by the Holder to exercise this Warrant to purchase Warrant Shares and no enumeration herein of the rights or privileges of the Holder shall give rise to any liability of the Holder for the purchase price of any Common Stock or as a stockholder of the Company whether such liability is asserted by the Company or by creditors of the Company i Remedies The Holder in addition to being entitled to exercise all rights granted by law including recovery of damages will be entitled to specific performance of its rights under this Warrant The Company agrees that monetary damages would not be adequate compensation for any loss incurred by reason of a breach by it of the provisions of this Warrant and hereby agrees to waive and not to assert the defense in any action for specific performance that a remedy at law would be adequate j Successors and Assigns Subject to applicable securities laws this Warrant and the rights and obligations evidenced hereby shall inure to the benefit of and be binding upon the successors and permitted assigns of the Company and the successors and permitted assigns of Holder The provisions of this Warrant are intended to be for the benefit of any Holder from time to time of this Warrant and shall be enforceable by the Holder or holder of Warrant Shares k Amendment This Warrant may be modified or amended or the provisions hereof waived with the written consent of the Company and the Holder l Severability Wherever possible each provision of this Warrant shall be interpreted in such manner as to be effective and valid under applicable law but if any provision of this Warrant shall be prohibited by or invalid under applicable law such provision shall be ineffective to the extent of such prohibition or invalidity without invalidating the remainder of such provisions or the remaining provisions of this Warrant m Headings The headings used in this Warrant are for the convenience of reference only and shall not for any purpose be deemed a part of this Warrant Signature Page Follows IN WITNESS WHEREOF the Company has caused this Warrant to be executed by its officer thereunto duly authorized as of the date first above indicated AIR INDUSTRIES GROUP Bys Peter D Rettaliata Name Peter D Rettaliata Title President and CEO NOTICE OF EXERCISE To AIR INDUSTRIES GROUP The undersigned hereby elects to purchase Warrant Shares of the Company pursuant to the terms of the attached Warrant only if exercised in full and tenders herewith payment of the exercise price in full together with all applicable transfer taxes if any Payment shall take the form of check applicable box in lawful money of the United States or if permitted the cancellation of such number of Warrant Shares as is necessary in accordance with the formula set forth in subsection to exercise this Warrant with respect to the maximum number of Warrant Shares purchasable pursuant to the cashless exercise procedure set forth in subsection Please issue said Warrant Shares in the name of the undersigned or in such other name as is specified below The Warrant Shares shall be delivered to the following DWAC Account Number SIGNATURE OF HOLDER Name of Investing Entity Signature of Authorized Signatory of Investing Entity Name of Authorized Signatory Title of Authorized Signatory Date ASSIGNMENT FORM To assign the foregoing warrant execute this form and supply required information Do not use this form to exercise the warrant FOR VALUE RECEIVED shares of Common Stock underlying the foregoing Warrant and all rights evidenced thereby are hereby assigned to Dated Taglich Brothers Inc Holders Signature By Holders Address New York Ave Suite Huntington NY NOTE The signature to this Assignment Form must correspond with the name as it appears on the face of the Warrant without alteration or enlargement or any change whatsoever Officers of corporations and those acting in a fiduciary or other representative capacity should file proper evidence of authority to assign the foregoing Warrant \n"
     ]
    }
   ],
   "source": [
    "#study misclassified doc errI [by filename or errI_index]\n",
    "#errI=newfiles.index('MC-275/0001553350-17-000313-4.txt')\n",
    "errI=543\n",
    "print(errI,\"TESTdata\" if errI in X_test else \"TRAINdata\",newfiles[errI],X_test.get(errI,0) or X_train.get(errI,0))\n",
    "#os.system(\"np++ \"+newfiles[errI])"
   ]
  },
  {
   "cell_type": "markdown",
   "metadata": {},
   "source": [
    "### SVM SVC [C-Support Vector Classification]"
   ]
  },
  {
   "cell_type": "code",
   "execution_count": 9,
   "metadata": {
    "collapsed": false,
    "scrolled": false
   },
   "outputs": [
    {
     "name": "stdout",
     "output_type": "stream",
     "text": [
      "--> Accuracy\n",
      "TRAIN 0.9978586723768736\n",
      "TEST 0.9492063492063492\n",
      "--> Train MisClassification\n"
     ]
    },
    {
     "data": {
      "text/html": [
       "<table border=\"1\" class=\"dataframe\">\n",
       "  <thead>\n",
       "    <tr style=\"text-align: right;\">\n",
       "      <th>Train_Predicted</th>\n",
       "      <th>AoI</th>\n",
       "      <th>MC</th>\n",
       "      <th>Others</th>\n",
       "      <th>All</th>\n",
       "    </tr>\n",
       "    <tr>\n",
       "      <th>True</th>\n",
       "      <th></th>\n",
       "      <th></th>\n",
       "      <th></th>\n",
       "      <th></th>\n",
       "    </tr>\n",
       "  </thead>\n",
       "  <tbody>\n",
       "    <tr>\n",
       "      <th>AoI</th>\n",
       "      <td>153</td>\n",
       "      <td>0</td>\n",
       "      <td>0</td>\n",
       "      <td>153</td>\n",
       "    </tr>\n",
       "    <tr>\n",
       "      <th>MC</th>\n",
       "      <td>0</td>\n",
       "      <td>142</td>\n",
       "      <td>0</td>\n",
       "      <td>142</td>\n",
       "    </tr>\n",
       "    <tr>\n",
       "      <th>Others</th>\n",
       "      <td>0</td>\n",
       "      <td>1</td>\n",
       "      <td>171</td>\n",
       "      <td>172</td>\n",
       "    </tr>\n",
       "    <tr>\n",
       "      <th>All</th>\n",
       "      <td>153</td>\n",
       "      <td>143</td>\n",
       "      <td>171</td>\n",
       "      <td>467</td>\n",
       "    </tr>\n",
       "  </tbody>\n",
       "</table>"
      ],
      "text/plain": [
       "<IPython.core.display.HTML object>"
      ]
     },
     "metadata": {},
     "output_type": "display_data"
    },
    {
     "name": "stdout",
     "output_type": "stream",
     "text": [
      "X_Train.values[ 245 ] Predicted MC Actual Others File:[errI=544 Others-275/new 132.txt ]\n",
      "1  misses in TrainData\n",
      "--> Test MisClassification\n"
     ]
    },
    {
     "data": {
      "text/html": [
       "<table border=\"1\" class=\"dataframe\">\n",
       "  <thead>\n",
       "    <tr style=\"text-align: right;\">\n",
       "      <th>Test_Predicted</th>\n",
       "      <th>AoI</th>\n",
       "      <th>MC</th>\n",
       "      <th>Others</th>\n",
       "      <th>All</th>\n",
       "    </tr>\n",
       "    <tr>\n",
       "      <th>True</th>\n",
       "      <th></th>\n",
       "      <th></th>\n",
       "      <th></th>\n",
       "      <th></th>\n",
       "    </tr>\n",
       "  </thead>\n",
       "  <tbody>\n",
       "    <tr>\n",
       "      <th>AoI</th>\n",
       "      <td>86</td>\n",
       "      <td>0</td>\n",
       "      <td>3</td>\n",
       "      <td>89</td>\n",
       "    </tr>\n",
       "    <tr>\n",
       "      <th>MC</th>\n",
       "      <td>0</td>\n",
       "      <td>116</td>\n",
       "      <td>7</td>\n",
       "      <td>123</td>\n",
       "    </tr>\n",
       "    <tr>\n",
       "      <th>Others</th>\n",
       "      <td>0</td>\n",
       "      <td>6</td>\n",
       "      <td>97</td>\n",
       "      <td>103</td>\n",
       "    </tr>\n",
       "    <tr>\n",
       "      <th>All</th>\n",
       "      <td>86</td>\n",
       "      <td>122</td>\n",
       "      <td>107</td>\n",
       "      <td>315</td>\n",
       "    </tr>\n",
       "  </tbody>\n",
       "</table>"
      ],
      "text/plain": [
       "<IPython.core.display.HTML object>"
      ]
     },
     "metadata": {},
     "output_type": "display_data"
    },
    {
     "name": "stdout",
     "output_type": "stream",
     "text": [
      "X_test.values[ 20 ] Predicted MC Actual Others File:[errI=625 Others-275/new 205.txt ]\n",
      "X_test.values[ 33 ] Predicted Others Actual MC File:[errI=361 MC-275/0001387131-17-001719-2.txt ]\n",
      "X_test.values[ 48 ] Predicted Others Actual MC File:[errI=302 MC-275/0001213900-17-003160-6.txt ]\n",
      "X_test.values[ 57 ] Predicted Others Actual AoI File:[errI=105 AoI-275/0001193794-03-000005-5.txt ]\n",
      "X_test.values[ 118 ] Predicted MC Actual Others File:[errI=580 Others-275/new 165.txt ]\n",
      "X_test.values[ 132 ] Predicted MC Actual Others File:[errI=537 Others-275/new 126.txt ]\n",
      "X_test.values[ 134 ] Predicted Others Actual AoI File:[errI=22 AoI-275/0001171843-15-001395-3.txt ]\n",
      "X_test.values[ 145 ] Predicted MC Actual Others File:[errI=578 Others-275/new 163.txt ]\n",
      "X_test.values[ 152 ] Predicted Others Actual MC File:[errI=305 MC-275/0001213900-17-003750-2.txt ]\n",
      "X_test.values[ 180 ] Predicted MC Actual Others File:[errI=547 Others-275/new 135.txt ]\n",
      "X_test.values[ 187 ] Predicted MC Actual Others File:[errI=559 Others-275/new 146.txt ]\n",
      "X_test.values[ 192 ] Predicted Others Actual MC File:[errI=300 MC-275/0001213900-17-003160-4.txt ]\n",
      "X_test.values[ 196 ] Predicted Others Actual MC File:[errI=301 MC-275/0001213900-17-003160-5.txt ]\n",
      "X_test.values[ 207 ] Predicted Others Actual MC File:[errI=506 MC-275/0001553350-17-000349-5.txt ]\n",
      "X_test.values[ 226 ] Predicted Others Actual AoI File:[errI=31 AoI-275/0001185185-15-000634-2.txt ]\n",
      "X_test.values[ 262 ] Predicted Others Actual MC File:[errI=407 MC-275/0001437749-17-005720-2.txt ]\n",
      "16  misses in TestData\n"
     ]
    }
   ],
   "source": [
    "#pipelining\n",
    "from sklearn.pipeline import Pipeline\n",
    "\n",
    "#svm_svc\n",
    "from sklearn.svm import SVC\n",
    "text_clf_svm = Pipeline([('vect', CountVectorizer(stop_words='english',ngram_range=(1,3), )),\n",
    "                     ('tfidf', TfidfTransformer()),\n",
    "                     ('clf', SVC(decision_function_shape=\"ovo\", C = 1000000, kernel='rbf', gamma ='auto'))\n",
    "                    ])\n",
    "\n",
    "#fit_transforms of data to pipeline\n",
    "fit_svm=text_clf_svm.fit(X_train,Y_train)\n",
    "\n",
    "#testing model\n",
    "print(\"--> Accuracy\")\n",
    "print(\"TRAIN\",text_clf_svm.score(X_train,Y_train))\n",
    "print(\"TEST\",text_clf_svm.score(X_test,Y_test))\n",
    "\n",
    "#misClassifications\n",
    "print(\"--> Train MisClassification\")\n",
    "TRpredicted_svm = text_clf_svm.predict(X_train)\n",
    "misClTr_svm=list()\n",
    "#sklearn.metrics.confusion_matrix\n",
    "display(HTML(pd.crosstab(Y_train,TRpredicted_svm,rownames=[\"True\"],colnames=[\"Train_Predicted\"],margins=True).to_html()))\n",
    "for i in range(len(TRpredicted_svm)):\n",
    "    if TRpredicted_svm[i]!=Y_train.iloc[i]:\n",
    "        print(\"X_Train.values[\",i,\"] Predicted\",TRpredicted_svm[i],\"Actual\",Y_train.iloc[i],\n",
    "              \"File:[errI=\"+str(X_train.index[i]),newfiles[X_train.index[i]],\"]\")\n",
    "        misClTr_svm.append(i)\n",
    "print(len(misClTr_svm),\" misses in TrainData\")\n",
    "\n",
    "print(\"--> Test MisClassification\")\n",
    "TSpredicted_svm = text_clf_svm.predict(X_test)\n",
    "misClTs_svm=list()\n",
    "#sklearn.metrics.confusion_matrix\n",
    "display(HTML(pd.crosstab(Y_test,TSpredicted_svm,rownames=[\"True\"],colnames=[\"Test_Predicted\"],margins=True).to_html()))\n",
    "for i in range(len(TSpredicted_svm)):\n",
    "    if TSpredicted_svm[i]!=Y_test.iloc[i]:\n",
    "        print(\"X_test.values[\",i,\"] Predicted\",TSpredicted_svm[i],\"Actual\",Y_test.iloc[i],\n",
    "              \"File:[errI=\"+str(X_test.index[i]),newfiles[X_test.index[i]],\"]\")\n",
    "        misClTs_svm.append(i)\n",
    "print(len(misClTs_svm),\" misses in TestData\")\n"
   ]
  },
  {
   "cell_type": "code",
   "execution_count": 10,
   "metadata": {
    "collapsed": true
   },
   "outputs": [
    {
     "name": "stdout",
     "output_type": "stream",
     "text": [
      "537 TESTdata Others-275/new 126.txt  Exhibit Adopted by the Board of Directors on December Adopted by the Stockholders on themaven inc STOCK INCENTIVE PLAN Purpose The purpose of this theMaven Inc Stock Incentive Plan the Plan is to advance the interests of theMaven Inc the Company and its stockholders by enabling the Company and its subsidiaries to attract and retain qualified individuals through opportunities for equity participation in the Company and to reward those individuals who contribute to the Companys achievement of its economic objectives Definitions The following terms will have the meanings set forth below unless the context clearly otherwise requires Board means the Board of Directors of the Company Broker Exercise Notice means a written notice pursuant to which a Participant upon exercise of an Option irrevocably instructs a broker or dealer to sell a sufficient number of shares or loan a sufficient amount of money to pay all or a portion of the exercise price of the Option andor any related withholding tax obligations and remit such sums to the Company and directs the Company to deliver stock certificates to be issued upon such exercise directly to such broker or dealer or their nominee Cause means dishonesty fraud misrepresentation embezzlement gross misconduct willful insubordination or gross negligence or deliberate injury or attempted injury in each case related to the Company or any of Subsidiary after notice and reasonable opportunity to cure failure or refusal to properly attend to the then duties or obligations of the Participant or to comply with the then rules policies or procedures of the Company any unlawful or criminal activity related to the Company or of a serious nature any intentional and deliberate breach of a duty or duties that individually or in the aggregate are material in relation to the Participants overall duties any material breach of any confidentiality noncompete or other agreement entered into with the Company or any Subsidiary or with respect to a particular Participant any other act or omission that constitutes cause as may be defined in any employment consulting or similar agreement between such Participant and the Company or any Subsidiary Change in Control means an event described in Section of the Plan Code means the Internal Revenue Code of as amended Committee means the group of individuals administering the Plan as provided in Section of the Plan Common Stock means the common stock of the Company par value per share or the number and kind of shares of stock or other securities into which such Common Stock may be changed in accordance with Section of the Plan Disability means any medically determinable physical or mental impairment resulting in the service providers inability to perform the duties of his or her position or any substantially similar position where such impairment can be expected to result in death or can be expected to last for a continuous period of not less than months Effective Date means December but no Incentive Stock Option shall be exercised unless and until the Plan has been approved by the stockholders of the Company which approval shall be within twelve months before or after the date the Plan is adopted by the Board Eligible Recipients means all employees officers and directors of the Company or any Subsidiary and any person who has a relationship with the Company or any Subsidiary Exchange Act means the Securities Exchange Act of as amended Fair Market Value means with respect to the Common Stock as of any date the mean between the reported high and low sale prices of the Common Stock at the end of the regular trading session if the Common Stock is listed admitted to unlisted trading privileges or reported on any national securities exchange or on the NASDAQ Global Select or Global Market on such date or if no shares were traded on such day as of the next preceding day on which there was such a trade or if the Common Stock is not so listed admitted to unlisted trading privileges or reported on any national exchange or on the NASDAQ Global Select or Global Market the closing bid price as of such date at the end of the regular trading session as reported by the NASDAQ Capital Market The OTC Market or other service publically reporting the market price of traded securities or if the Common Stock is not so listed or reported such price as the Committee determines in good faith in the exercise of its reasonable discretion Incentive Award means an Option Restricted Stock Award or Performance Stock Award granted to an Eligible Recipient pursuant to the Plan Incentive Stock Option means a right to purchase Common Stock granted to an Eligible Recipient pursuant to Section of the Plan that qualifies as an incentive stock option within the meaning of Section of the Code NonStatutory Stock Option means a right to purchase Common Stock granted to an Eligible Recipient pursuant to Section of the Plan that does not qualify as an Incentive Stock Option Option means an Incentive Stock Option or a NonStatutory Stock Option Participant means an Eligible Recipient who receives one or more Incentive Awards under the Plan Performance Criteria means the performance criteria that may be used by the Committee in granting Restricted Stock Awards or Performance Stock Awards contingent upon achievement of such performance goals as the Committee may determine in its sole discretion The Committee may select one criterion or multiple criteria for measuring performance and the measurement may be based upon Company Subsidiary or business unit performance or the individual performance of the Eligible Recipient either absolute or by relative comparison to other companies other Eligible Recipients or any other external measure of the selected criteria Performance Stock Awards means an award of Common Stock granted to an Eligible Recipient pursuant to Section of the Plan and with respect to which shares of Common Stock will be transferred to the Eligible Recipient in accordance with the provisions of such Section and any agreement evidencing a Deferred Share Award Previously Acquired Shares means shares of Common Stock that are already owned by the Participant or with respect to any Incentive Award that are to be issued upon the grant exercise or vesting of such Incentive Award Restricted Stock Award means an award of Common Stock granted to an Eligible Recipient pursuant to Section of the Plan that is subject to the restrictions on transferability and the risk of forfeiture imposed by the provisions of such Section Retirement means normal or approved early termination of employment or service Securities Act means the Securities Act of as amended Subsidiary means any entity that is directly or indirectly controlled by the Company or any entity in which the Company has a significant equity interest as determined by the Committee Plan Administration The Committee The Plan will be administered by the Board or by a committee of the Board So long as the Company has a class of its equity securities registered under Section of the Exchange Act any committee administering the Plan will consist solely of two or more members of the Board who are nonemployee directors within the meaning of Rule b under the Exchange Act Such a committee if established will act by majority approval of the members unanimous approval with respect to action by written consent and a majority of the members of such a committee meeting will constitute a quorum As used in the Plan Committee will refer to the Board or to such a committee if established To the extent consistent with applicable corporate law of the Companys jurisdiction of incorporation the Committee may delegate to any officers of the Company the duties power and authority of the Committee under the Plan pursuant to such conditions or limitations as the Committee may establish provided however that only the Committee may exercise such duties power and authority with respect to Eligible Recipients who are subject to Section of the Exchange Act The Committee may exercise its duties power and authority under the Plan in its sole and absolute discretion without the consent of any Participant or other party unless the Plan specifically provides otherwise Each determination interpretation or other action made or taken by the Committee pursuant to the provisions of the Plan will be conclusive and binding for all purposes and on all persons and no member of the Committee will be liable for any action or determination made in good faith with respect to the Plan or any Incentive Award granted under the Plan Authority of the Committee In accordance with and subject to the provisions of the Plan the Committee will have the authority to determine all provisions of Incentive Awards as the Committee may deem necessary or desirable and as consistent with the terms of the Plan including without limitation the following the Eligible Recipients to be selected as Participants the nature and extent of the Incentive Awards to be made to each Participant including the number of shares of Common Stock to be subject to each Incentive Award any exercise price the manner in which Incentive Awards will vest or become exercisable and whether Incentive Awards will be granted in tandem with other Incentive Awards and the form of written agreement if any evidencing such Incentive Award the time or times when Incentive Awards will be granted and where applicable settled the duration of each Incentive Award and the restrictions and other conditions to which the payment or vesting of Incentive Awards may be subject In addition the Committee will have the authority under the Plan in its sole discretion to pay the economic value of any Incentive Award in the form of cash Common Stock or any combination of both The Committee will have the authority under the Plan to amend or modify the terms of any outstanding Incentive Award in any manner including without limitation the authority to modify the exercise price number of shares or other terms and conditions of an Incentive Award extend or shorten the term of an Incentive Award accelerate the exercisability or vesting or otherwise terminate any restrictions relating to an Incentive Award accept the surrender of any outstanding Incentive Award or to the extent not previously exercised or vested authorize the grant of new Incentive Awards in substitution for surrendered Incentive Awards provided however that the amended or modified terms are permitted by the Plan as then in effect and that any Participant adversely affected by such amended or modified terms has consented to such amendment or modification The ability of the Committee to change the terms of an Incentive Award will include the ability to change the terms of any underwater Incentive Award including without limitation an exercise price reduction change in number of equity awards and granting Incentive Awards in substitution or addition to the original award Notwithstanding the foregoing no Performance Stock Award or any other Incentive Award that is subject to the requirements and restrictions of Section A of the Code may be amended in a manner that would violate Section A of the Code In the event of any reorganization merger consolidation recapitalization liquidation reclassification stock dividend stock split combination of shares rights offering extraordinary dividend or divestiture including a spinoff or any other change in corporate structure or shares any purchase acquisition sale disposition or writedown of a significant amount of assets or a significant business any change in accounting principles or practices tax laws or other such laws or provisions affecting reported results or any other similar change in each case with respect to the Company or any other entity whose performance is relevant to the grant or vesting of an Incentive Award the Committee or if the Company is not the surviving corporation in any such transaction the board of directors of the surviving corporation may without the consent of any affected Participant amend or modify the vesting criteria including Performance Criteria of any outstanding Incentive Award that is based in whole or in part on the financial performance of the Company or any Subsidiary or division or other subunit thereof or such other entity so as equitably to reflect such event with the desired result that the criteria for evaluating such financial performance of the Company or such other entity will be substantially the same in the sole discretion of the Committee or the board of directors of the surviving corporation following such event as prior to such event provided however that the amended or modified terms are permitted by the Plan as then in effect Shares Available for Issuance Maximum Number of Shares Available Certain Restrictions on Awards Subject to adjustment as provided in Section of the Plan the maximum number of shares of Common Stock that will be available for issuance under the Plan will be The shares available for issuance under the Plan may at the election of the Committee be either treasury shares or shares authorized but unissued and if treasury shares are used all references in the Plan to the issuance of shares will for corporate law purposes be deemed to mean the transfer of shares from treasury Accounting for Incentive Awards Shares of Common Stock that are issued under the Plan or that are subject to outstanding Incentive Awards will be applied to reduce the maximum number of shares of Common Stock remaining available for issuance under the Plan provided however that shares subject to an Incentive Award that lapses expires is forfeited including issued shares forfeited under a Restricted Stock Award or for any reason is terminated unexercised or unvested or is settled or paid in cash or any form other than shares of Common Stock will automatically again become available for issuance under the Plan To the extent that the exercise price of any Option andor associated tax withholding obligations are paid by tender or attestation as to ownership of Previously Acquired Shares or to the extent that such tax withholding obligations are satisfied by withholding of shares otherwise issuable upon exercise of the Option only the number of shares of Common Stock issued net of the number of shares tendered attested to or withheld will be applied to reduce the maximum number of shares of Common Stock remaining available for issuance under the Plan Adjustments to Shares and Incentive Awards In the event of any reorganization merger consolidation recapitalization liquidation reclassification stock dividend stock split combination of shares or any other change in the corporate structure or shares of the Company the Committee or if the Company is not the surviving corporation in any such transaction the board of directors of the surviving corporation will make appropriate adjustment which determination will be conclusive as to the number and kind of securities or other property including cash available for issuance or payment under the Plan and in order to prevent dilution or enlargement of the rights of Participants the number and kind of securities or other property including cash subject to outstanding Incentive Awards and the exercise price of outstanding Options Participation Participants in the Plan will be those Eligible Recipients who in the judgment of the Committee have contributed are contributing or are expected to contribute to the achievement of economic objectives of the Company or its Subsidiaries Eligible Recipients may be granted from time to time one or more Incentive Awards singly or in combination or in tandem with other Incentive Awards as may be determined by the Committee in its sole discretion Incentive Awards will be deemed to be granted as of the date specified in the grant resolution of the Committee which date will be the date of any related agreement with the Participant Options Grant An Eligible Recipient may be granted one or more Options under the Plan and such Options will be subject to such terms and conditions consistent with the other provisions of the Plan as may be determined by the Committee in its sole discretion The Committee may designate whether an Option is to be considered an Incentive Stock Option or a NonStatutory Stock Option To the extent that any Incentive Stock Option granted under the Plan ceases for any reason to qualify as an incentive stock option for purposes of Section of the Code such Incentive Stock Option will continue to be outstanding for purposes of the Plan but will thereafter be deemed to be a NonStatutory Stock Option Exercise Price The per share price to be paid by a Participant upon exercise of an Option will be determined by the Committee in its discretion at the time of the Option grant provided however that such price will not be less than of the Fair Market Value of one share of Common Stock on the date of grant with respect to any Option of the Fair Market Value with respect to an Incentive Stock Option if at the time such Incentive Stock Option is granted the Participant owns directly or indirectly more than of the total combined voting power of all classes of stock of the Company or any parent or subsidiary corporation of the Company Exercisability and Duration An Option will become exercisable at such times and in such installments and upon such terms and conditions as may be determined by the Committee in its sole discretion at the time of grant including without limitation the achievement of one or more of the Performance Criteria andor that the Participant remain in the continuous employ or service of the Company or a Subsidiary for a certain period provided however that if the Committee does not specify the expiration date of the Option the expiration date shall be years from the date on which the Option was granted In no case may an Option may be exercisable after years from its date of grant five years from its date of grant in the case of an Incentive Stock Option if at the time the Incentive Stock Option is granted the Participant owns directly or indirectly more than of the total combined voting power of all classes of stock of the Company or any parent or subsidiary corporation of the Company Payment of Exercise Price The total purchase price of the shares to be purchased upon exercise of an Option will be paid entirely in cash including check bank draft or money order provided however that the Committee in its sole discretion and upon terms and conditions established by the Committee may allow such payments to be made in whole or in part by tender of a Broker Exercise Notice by tender or attestation as to ownership of Previously Acquired Shares that have been held for the period of time necessary to avoid a charge to the Companys earnings for financial reporting purposes and that are otherwise acceptable to the Committee or by a combination of such methods For purposes of such payment Previously Acquired Shares tendered or covered by an attestation will be valued at their Fair Market Value on the exercise date Manner of Exercise An Option may be exercised by a Participant in whole or in part from time to time subject to the conditions contained in the Plan and in the agreement evidencing such Option by delivery in person by facsimile or electronic transmission or through the mail of written notice of exercise to the Company at its legal department and by paying in full the total exercise price for the shares of Common Stock to be purchased in accordance with Section of the Plan Restricted Stock Awards Grant An Eligible Recipient may be granted one or more Restricted Stock Awards under the Plan and such Restricted Stock Awards will be subject to such terms and conditions consistent with the other provisions of the Plan as may be determined by the Committee in its sole discretion The Committee may impose such restrictions or conditions not inconsistent with the provisions of the Plan to the vesting of such Restricted Stock Awards as it deems appropriate including without limitation the achievement of one or more of the Performance Criteria andor that the Participant remain in the continuous employ or service of the Company or a Subsidiary for a certain period Rights as a Stockholder Transferability Except as provided in Sections and of the Plan a Participant will have all voting dividend liquidation and other rights with respect to shares of Common Stock issued to the Participant as a Restricted Stock Award under this Section upon the Participant becoming the holder of record of such shares as if such Participant were a holder of record of shares of unrestricted Common Stock Dividends and Distributions Unless the Committee determines otherwise in its sole discretion either in the agreement evidencing the Restricted Stock Award at the time of grant or at any time after the grant of the Restricted Stock Award any dividends or distributions other than regular quarterly cash dividends paid with respect to shares of Common Stock subject to the unvested portion of a Restricted Stock Award will be subject to the same restrictions as the shares to which such dividends or distributions relate The Committee will determine in its sole discretion whether any interest will be paid on such dividends or distributions Enforcement of Restrictions To enforce the restrictions referred to in this Section the Committee may place a legend on the stock certificates referring to such restrictions and may require the Participant until the restrictions have lapsed to keep the stock certificates together with duly endorsed stock powers in the custody of the Company or its transfer agent or to maintain evidence of stock ownership together with duly endorsed stock powers in a certificateless bookentry stock account with the Companys transfer agent Performance Stock Awards Grant An Eligible Recipient may be granted one or more Performance Stock Awards under the Plan and such Performance Stock Awards will be subject to such terms and conditions if any consistent with the other provisions of the Plan as may be determined by the Committee in its sole discretion The Committee may impose such restrictions or conditions not inconsistent with the provisions of the Plan to the vesting of such Performance Stock Awards as it deems appropriate including without limitation the achievement of one or more of the Performance Criteria andor that the Participant remain in the continuous employ or service of the Company or a Subsidiary for a certain period Settlement Time of Payment At the time any Performance Stock Award is granted the agreement evidencing the Performance Stock Award will specify the time at which the vested portion of the Performance Stock Award will be settled In no event may the time of payment be changed after the Performance Stock Award is granted The agreement may specify that settlement will be made upon vesting or the settlement will occur with respect to all vested Performance Stock Awards as of a specified time To the extent the agreement does not provide for the settlement of vested Performance Stock Awards on or before the date that is months after the end of the year in which the Performance Stock Award or the relevant portion thereof vests the agreement will provide for payment to occur upon the Eligible Recipients separation from service death or disability upon a Change in Control of the Company or upon a specified date or pursuant to a specified schedule In all cases in which payment is to be made in accordance with this Section the times specified for payment will be interpreted and administered in accordance with the requirements of Section A of the Code and any applicable regulations or guidance issued in connection with that Code section Settlement Form of Payment Unless otherwise specified in the Plan the agreement evidencing the Performance Stock Award or some other written agreement between the Company and the Eligible Recipient vested Performance Stock Awards will be settled in shares of Common Stock Rights as a Stockholder A Participant holding a Performance Stock Award shall have no rights as a holder of Common Stock unless and until the Performance Stock Award is settled and shares of Common Stock are delivered to the Participant in such settlement Dividends and Distributions Unless the Committee determines otherwise in its sole discretion either in the agreement evidencing the Performance Stock Award at the time of grant or at any time after the grant of the Performance Stock Award the Participant shall not be entitled to receive dividends or distributions with respect to the Shares subject to a Performance Stock Award unless and until the Performance Stock Award is settled and shares of Common Stock are delivered to the Participant in such settlement Unfunded and Unsecured Obligation of the Company A Performance Stock Award represents an unfunded and unsecured obligation of the Company to make payment to a Participant in accordance with the terms of this Plan or an award agreement The Participants rights with respect to a Performance Stock Award shall be those of an unsecured creditor of the Company Effect of Termination of Employment or Other Service Termination Due to Death or Disability In the event a Participants employment or other service with the Company and all Subsidiaries is terminated by reason of death or Disability All outstanding Options then held by the Participant will to the extent exercisable as of such termination remain exercisable for a period of six months after such termination but in no event after the expiration date of any such Option and All Restricted Stock Awards then held by the Participant that have not vested as of such termination will be terminated and forfeited and All outstanding Performance Stock Awards then held by the Participant that have not vested as of such termination will be terminated and forfeited Termination Due to Retirement Subject to Section of the Plan in the event a Participants employment or other service with the Company and all Subsidiaries is terminated by reason of Retirement All outstanding Options then held by the Participant will to the extent exercisable as of such termination remain exercisable in full for a period of three months after such termination but in no event after the expiration date of any such Option Options not exercisable as of such Retirement will be forfeited and terminate and All Restricted Stock Awards then held by the Participant that have not vested as of such termination will be terminated and forfeited and All outstanding Performance Stock Awards then held by the Participant that have not vested as of such termination will be terminated and forfeited Termination for Reasons Other than Death Disability or Retirement Subject to Section of the Plan in the event a Participants employment or other service is terminated with the Company and all Subsidiaries for any reason other than death Disability or Retirement or a Participant is in the employ of a Subsidiary and the Subsidiary ceases to be a Subsidiary of the Company unless the Participant continues in the employ of the Company or another Subsidiary All outstanding Options then held by the Participant will to the extent exercisable as of such termination remain exercisable in full for a period of one month after such termination but in no event after the expiration date of any such Option Options not exercisable will be terminated and forfeited and All Restricted Stock Awards then held by the Participant that have not vested as of such termination will be terminated and forfeited and All outstanding Performance Stock Awards then held by the Participant that have not vested as of such termination will be terminated and forfeited Modification of Rights Upon Termination Notwithstanding the other provisions of this Section the Committee may in its sole discretion which may be exercised in connection with the grant or after the date of grant including following such termination determine that upon a Participants termination of employment or other service with the Company and all Subsidiaries any Options or any part thereof then held by such Participant may become or continue to become exercisable andor remain exercisable following such termination of employment or service and Restricted Stock Awards and Performance Stock Awards then held by such Participant may vest andor continue to vest or become free of restrictions and conditions to issuance as the case may be following such termination of employment or service in each case in the manner determined by the Committee Effects of Actions Constituting Cause Notwithstanding anything in the Plan to the contrary in the event that a Participant is determined by the Committee acting in its sole discretion to have committed any action which would constitute Cause as defined in Section irrespective of whether such action or the Committees determination occurs before or after termination of such Participants employment or service with the Company or any Subsidiary all rights of the Participant under the Plan and any agreements evidencing an Incentive Award then held by the Participant shall terminate and be forfeited without notice of any kind The Company may defer the exercise of any Option or the vesting of any Restricted Stock Award or Performance Stock Award for a period of up to ninety days in order for the Committee to make any determination as to the existence of Cause Determination of Termination of Employment or Other Service Unless the Committee otherwise determines in its sole discretion a Participants employment or other service will for purposes of the Plan be deemed to have terminated on the date recorded on the personnel or other records of the Company or the Subsidiary for which the Participant provides employment or service as determined by the Committee in its sole discretion based upon such records Payment of Withholding Taxes General Rules The Company is entitled to withhold and deduct from future wages of the Participant or from other amounts that may be due and owing to the Participant from the Company or a Subsidiary or make other arrangements for the collection of all legally required amounts necessary to satisfy any and all federal foreign state and local withholding and employmentrelated tax requirements attributable to an Incentive Award including without limitation the grant exercise or vesting of or payment of dividends with respect to an Incentive Award or a disqualifying disposition of stock received upon exercise of an Incentive Stock Option or require the Participant promptly to remit the amount of such withholding to the Company before taking any action including issuing any shares of Common Stock with respect to an Incentive Award Special Rules The Committee may in its sole discretion and upon terms and conditions established by the Committee permit or require a Participant to satisfy in whole or in part any withholding or employmentrelated tax obligation described in Section of the Plan by electing to tender or by attestation as to ownership of Previously Acquired Shares that have been held for the period of time necessary to avoid a charge to the Companys earnings for financial reporting purposes and that are otherwise acceptable to the Committee by delivery of a Broker Exercise Notice or a combination of such methods For purposes of satisfying a Participants withholding or employmentrelated tax obligation Previously Acquired Shares tendered or covered by an attestation will be valued at their Fair Market Value Change in Control A Change in Control shall be deemed to have occurred if the event set forth in any one of the following paragraphs has occurred the sale lease exchange or other transfer directly or indirectly of substantially all of the assets of the Company in one transaction or in a series of related transactions to any Successor the approval by the stockholders of the Company of any plan or proposal for the liquidation or dissolution of the Company any Successor as defined in Section below other than a Bona Fide Underwriter as defined in Section below becomes after the effective date of the Plan the beneficial owner as defined in Rule d under the Exchange Act directly or indirectly of or more but not or more of the combined voting power of the Companys outstanding securities ordinarily having the right to vote at elections of directors or more than of the combined voting power of the Companys outstanding securities ordinarily having the right to vote at elections of directors or a merger or consolidation to which the Company is a party if the stockholders of the Company immediately prior to effective date of such merger or consolidation have beneficial ownership as defined in Rule d under the Exchange Act immediately following the effective date of such merger or consolidation of securities of the surviving corporation representing or more but not more than of the combined voting power of the surviving corporations then outstanding securities ordinarily having the right to vote at elections of directors or less than of the combined voting power of the surviving corporations then outstanding securities ordinarily having the right to vote at elections of directors Change in Control Definitions For purposes of this Section Bona Fide Underwriter means an entity engaged in business as an underwriter of securities that acquires securities of the Company through such entitys participation in good faith in a firm commitment or best efforts underwriting until the expiration of days after the date of such acquisition Successor means any individual corporation partnership group association or other person as such term is used in Section or Section of the Exchange Act other than the Company any affiliate as defined below or any benefit plan sponsored by the Company or any affiliate that succeeds to or has the practical ability to control either immediately or solely with the passage of time the Companys business directly by merger consolidation or other form of business combination or indirectly by purchase of the Companys outstanding securities ordinarily having the right to vote at the election of directors or all or substantially all of its assets or otherwise For this purpose an affiliate is any corporation at least a majority of whose outstanding securities ordinarily having the right to vote at elections of directors is owned directly or indirectly by the Company any other form of business entity in which the Company by virtue of a direct or indirect ownership interest has the right to elect a majority of the members of such entitys governing body or any entity that at the time of the approval of this Plan owns in excess of of the Companys common stock and its affiliates Acceleration of Vesting Without limiting the authority of the Committee under Sections and of the Plan if a Change in Control of the Company occurs then if approved by the Committee in its sole discretion either in an agreement evidencing an Incentive Award at the time of grant or at any time after the grant of an Incentive Award all Options that have been outstanding for at least six months will become immediately exercisable in full and will remain exercisable in accordance with their terms all Restricted Stock Awards that have been outstanding for at least six months will become immediately fully vested and nonforfeitable and any conditions to the issuance of shares of Common Stock pursuant to Performance Stock Awards that have been outstanding for at least six months will lapse Cash Payment If a Change in Control of the Company occurs then the Committee if approved by the Committee in its sole discretion either in an agreement evidencing an Incentive Award at the time of grant or at any time after the grant of an Incentive Award and without the consent of any Participant affected thereby may determine that Some or all Participants holding outstanding Options will receive with respect to some or all of the shares of Common Stock subject to such Options Option Shares either as of the effective date of any such Change in Control cash in an amount equal to the excess of the Fair Market Value of such Option Shares on the last business day prior to the effective date of such Change in Control over the exercise price per share of such Option Shares immediately prior to such Change of Control a number of shares of Common Stock having an aggregate Fair Market Value equal to the excess of the Fair Market Value of the Option Shares as of the last business day prior to the effective date of such Change in Control over the exercise price per share of such Option Shares or any combination of cash or shares of Common Stock with the amount of each component to be determined by the Committee not inconsistent with the foregoing clauses and as proportionally adjusted and any Options which as of the effective date of any such Change in Control are underwater as defined in Section shall terminate as of the effective date of any such Change in Control and some or all Participants holding Performance Stock Awards will receive with respect to some or all of the shares of Common Stock subject to such Performance Stock Awards that remain subject to issuance based upon the future achievement of Performance Criteria or other future event as of the effective date of any such Change in Control of the Company cash in an amount equal the Fair Market Value of such shares immediately prior to the effective date of such Change in Control Limitation on Change in Control Payments Notwithstanding anything in Section or of the Plan to the contrary if with respect to a Participant the acceleration of the exercisability of an Option as provided in Section or the payment of cash or shares of Common Stock in exchange for all or part of an Option as provided in Section which acceleration or payment could be deemed a payment within the meaning of Section G of the Code together with any other payments that such Participant has the right to receive from the Company or any corporation that is a member of an affiliated group as defined in Section of the Code without regard to Section of the Code of which the Company is a member would constitute a parachute payment as defined in Section G of the Code then the payments to such Participant pursuant to Section or of the Plan will be reduced to the largest amount as will result in no portion of such payments being subject to the excise tax imposed by Section of the Code provided however that if a Participant is subject to a separate agreement with the Company or a Subsidiary which specifically provides that payments attributable to one or more forms of employee stock incentives or to payments made in lieu of employee stock incentives will not reduce any other payments under such agreement even if it would constitute an excess parachute payment or provides that the Participant will have the discretion to determine which payments will be reduced in order to avoid an excess parachute payment then the limitations of this Section will to that extent not apply Rights of Eligible Recipient and Participants Transferability Employment or Service Nothing in the Plan will interfere with or limit in any way the right of the Company or any Subsidiary to terminate the employment or service of any Eligible Recipient or Participant at any time nor confer upon any Eligible Recipient or Participant any right to continue in the employ or service of the Company or any Subsidiary Rights as a Stockholder As a holder of Incentive Awards other than Restricted Stock Awards a Participant will have no rights as a stockholder unless and until such Incentive Awards are exercised for or paid in the form of shares of Common Stock and the Participant becomes the holder of record of such shares Except as otherwise provided in the Plan no adjustment will be made for dividends or distributions with respect to such Incentive Awards as to which there is a record date preceding the date the Participant becomes the holder of record of such shares except as the Committee may determine in its discretion Restrictions on Transfer Except pursuant to testamentary will or the laws of descent and distribution or as otherwise expressly permitted by subsections and below no right or interest of any Participant in an Incentive Award prior to the exercise in the case of Options or vesting in the case of Restricted Stock Awards or Performance Stock Awards of such Incentive Award will be assignable or transferable or subjected to any lien during the lifetime of the Participant either voluntarily or involuntarily directly or indirectly by operation of law or otherwise A Participant will be entitled to designate a beneficiary to receive an Incentive Award upon such Participants death and in the event of such Participants death payment of any amounts due under the Plan will be made to and exercise of any Options to the extent permitted pursuant to Section of the Plan may be made by such beneficiary If a deceased Participant has failed to designate a beneficiary or if a beneficiary designated by the Participant fails to survive the Participant payment of any amounts due under the Plan will be made to and exercise of any Options to the extent permitted pursuant to Section of the Plan may be made by the Participants legal representatives heirs and legatees If a deceased Participant has designated a beneficiary and such beneficiary survives the Participant but dies before complete payment of all amounts due under the Plan or exercise of all exercisable Options then such payments will be made to and the exercise of such Options may be made by the legal representatives heirs and legatees of the beneficiary Upon a Participants request the Committee may in its sole discretion permit a transfer of all or a portion of a NonStatutory Stock Option other than for value to such Participants child stepchild grandchild parent stepparent grandparent spouse former spouse sibling niece nephew motherinlaw fatherinlaw soninlaw daughterinlaw brotherinlaw or sisterinlaw any person sharing such Participants household other than a tenant or employee a trust in which any of the foregoing have more than fifty percent of the beneficial interests a foundation in which any of the foregoing or the Participant control the management of assets and any other entity in which these persons or the Participant own more than fifty percent of the voting interests Any permitted transferee will remain subject to all the terms and conditions applicable to the Participant prior to the transfer A permitted transfer may be conditioned upon such requirements as the Committee may in its sole discretion determine including but not limited to execution andor delivery of appropriate acknowledgements opinion of counsel or other documents by the transferee NonExclusivity of the Plan Nothing contained in the Plan is intended to modify or rescind any previously approved compensation plans or programs of the Company or create any limitations on the power or authority of the Board to adopt such additional or other compensation arrangements as the Board may deem necessary or desirable Securities Law and Other Restrictions Notwithstanding any other provision of the Plan or any agreements entered into pursuant to the Plan the Company will not be required to issue any shares of Common Stock under this Plan and a Participant may not sell assign transfer or otherwise dispose of shares of Common Stock issued pursuant to Incentive Awards granted under the Plan unless there is in effect with respect to such shares a registration statement under the Securities Act and any applicable securities laws of a state or foreign jurisdiction or an exemption from such registration under the Securities Act and applicable state or foreign securities laws and there has been obtained any other consent approval or permit from any other US or foreign regulatory body which the Committee in its sole discretion deems necessary or advisable The Company may condition such issuance sale or transfer upon the receipt of any representations or agreements from the parties involved and the placement of any legends on certificates representing shares of Common Stock as may be deemed necessary or advisable by the Company in order to comply with such securities law or other restrictions Plan Amendment Modification and Termination The Board may suspend or terminate the Plan or any portion thereof at any time and may amend the Plan from time to time in such respects as the Board may deem advisable in order that Incentive Awards under the Plan will conform to any change in applicable laws or regulations or in any other respect the Board may deem to be in the best interests of the Company provided however that no such amendments to the Plan will be effective without approval of the Companys stockholders if stockholder approval of the amendment is then required pursuant to Section of the Code or the rules of any stock exchange or the NASDAQ Global Select Global or Capital Market or similar regulatory body No termination suspension or amendment of the Plan may adversely affect any outstanding Incentive Award without the consent of the affected Participant provided however that this sentence will not impair the right of the Committee to take whatever action it deems appropriate under Sections and of the Plan Effective Date and Duration of the Plan The Plan is effective as of the Effective Date The Plan will terminate at midnight on December and may be terminated prior to such time by Board action No Incentive Award will be granted after termination of the Plan Incentive Awards outstanding upon termination of the Plan may continue to be exercised or become free of restrictions according to their terms Miscellaneous Governing Law Except to the extent expressly provided herein or in connection with other matters of corporate governance and authority all of which shall be governed by the laws of the Companys jurisdiction of incorporation the validity construction interpretation administration and effect of the Plan and any rules regulations and actions relating to the Plan will be governed by and construed exclusively in accordance with the laws of the State of Delaware notwithstanding the conflicts of laws principles of any jurisdictions Successors and Assigns The Plan will be binding upon and inure to the benefit of the successors and permitted assigns of the Company and the Participants \n"
     ]
    }
   ],
   "source": [
    "#study misclassified doc errI [by filename or errI_index]\n",
    "errI=newfiles.index('Others-275/new 126.txt')\n",
    "#errI=496-1\n",
    "print(errI,\"TESTdata\" if errI in X_test else \"TRAINdata\",newfiles[errI],X_test.get(errI,0) or X_train.get(errI,0))\n",
    "#os.system(\"np++ \"+newfiles[errI])"
   ]
  },
  {
   "cell_type": "markdown",
   "metadata": {},
   "source": [
    "### Decision Tree"
   ]
  },
  {
   "cell_type": "code",
   "execution_count": 11,
   "metadata": {
    "collapsed": false,
    "scrolled": false
   },
   "outputs": [
    {
     "name": "stdout",
     "output_type": "stream",
     "text": [
      "--> Accuracy\n",
      "TRAIN 1.0\n",
      "TEST 0.834920634920635\n",
      "--> Train MisClassification\n"
     ]
    },
    {
     "data": {
      "text/html": [
       "<table border=\"1\" class=\"dataframe\">\n",
       "  <thead>\n",
       "    <tr style=\"text-align: right;\">\n",
       "      <th>Train_Predicted</th>\n",
       "      <th>AoI</th>\n",
       "      <th>MC</th>\n",
       "      <th>Others</th>\n",
       "      <th>All</th>\n",
       "    </tr>\n",
       "    <tr>\n",
       "      <th>True</th>\n",
       "      <th></th>\n",
       "      <th></th>\n",
       "      <th></th>\n",
       "      <th></th>\n",
       "    </tr>\n",
       "  </thead>\n",
       "  <tbody>\n",
       "    <tr>\n",
       "      <th>AoI</th>\n",
       "      <td>153</td>\n",
       "      <td>0</td>\n",
       "      <td>0</td>\n",
       "      <td>153</td>\n",
       "    </tr>\n",
       "    <tr>\n",
       "      <th>MC</th>\n",
       "      <td>0</td>\n",
       "      <td>142</td>\n",
       "      <td>0</td>\n",
       "      <td>142</td>\n",
       "    </tr>\n",
       "    <tr>\n",
       "      <th>Others</th>\n",
       "      <td>0</td>\n",
       "      <td>0</td>\n",
       "      <td>172</td>\n",
       "      <td>172</td>\n",
       "    </tr>\n",
       "    <tr>\n",
       "      <th>All</th>\n",
       "      <td>153</td>\n",
       "      <td>142</td>\n",
       "      <td>172</td>\n",
       "      <td>467</td>\n",
       "    </tr>\n",
       "  </tbody>\n",
       "</table>"
      ],
      "text/plain": [
       "<IPython.core.display.HTML object>"
      ]
     },
     "metadata": {},
     "output_type": "display_data"
    },
    {
     "name": "stdout",
     "output_type": "stream",
     "text": [
      "0  misses in TrainData\n",
      "--> Test MisClassification\n"
     ]
    },
    {
     "data": {
      "text/html": [
       "<table border=\"1\" class=\"dataframe\">\n",
       "  <thead>\n",
       "    <tr style=\"text-align: right;\">\n",
       "      <th>Test_Predicted</th>\n",
       "      <th>AoI</th>\n",
       "      <th>MC</th>\n",
       "      <th>Others</th>\n",
       "      <th>All</th>\n",
       "    </tr>\n",
       "    <tr>\n",
       "      <th>True</th>\n",
       "      <th></th>\n",
       "      <th></th>\n",
       "      <th></th>\n",
       "      <th></th>\n",
       "    </tr>\n",
       "  </thead>\n",
       "  <tbody>\n",
       "    <tr>\n",
       "      <th>AoI</th>\n",
       "      <td>81</td>\n",
       "      <td>6</td>\n",
       "      <td>2</td>\n",
       "      <td>89</td>\n",
       "    </tr>\n",
       "    <tr>\n",
       "      <th>MC</th>\n",
       "      <td>6</td>\n",
       "      <td>91</td>\n",
       "      <td>26</td>\n",
       "      <td>123</td>\n",
       "    </tr>\n",
       "    <tr>\n",
       "      <th>Others</th>\n",
       "      <td>4</td>\n",
       "      <td>8</td>\n",
       "      <td>91</td>\n",
       "      <td>103</td>\n",
       "    </tr>\n",
       "    <tr>\n",
       "      <th>All</th>\n",
       "      <td>91</td>\n",
       "      <td>105</td>\n",
       "      <td>119</td>\n",
       "      <td>315</td>\n",
       "    </tr>\n",
       "  </tbody>\n",
       "</table>"
      ],
      "text/plain": [
       "<IPython.core.display.HTML object>"
      ]
     },
     "metadata": {},
     "output_type": "display_data"
    },
    {
     "name": "stdout",
     "output_type": "stream",
     "text": [
      "X_test.values[ 9 ] Predicted MC Actual Others File:[errI=719 Others-275/new 42.txt ]\n",
      "X_test.values[ 14 ] Predicted Others Actual MC File:[errI=255 MC-275/0001193125-17-106850-6.txt ]\n",
      "X_test.values[ 28 ] Predicted Others Actual MC File:[errI=271 MC-275/0001193125-17-123414-6.txt ]\n",
      "X_test.values[ 35 ] Predicted Others Actual MC File:[errI=478 MC-275/0001493152-17-003856-4.txt ]\n",
      "X_test.values[ 37 ] Predicted AoI Actual MC File:[errI=289 MC-275/0001213900-17-003042-4.txt ]\n",
      "X_test.values[ 57 ] Predicted Others Actual AoI File:[errI=105 AoI-275/0001193794-03-000005-5.txt ]\n",
      "X_test.values[ 60 ] Predicted MC Actual Others File:[errI=637 Others-275/new 216.txt ]\n",
      "X_test.values[ 61 ] Predicted Others Actual MC File:[errI=432 MC-275/0001477932-17-001489-3.txt ]\n",
      "X_test.values[ 63 ] Predicted Others Actual MC File:[errI=320 MC-275/0001223389-17-000017-4.txt ]\n",
      "X_test.values[ 65 ] Predicted AoI Actual MC File:[errI=431 MC-275/0001477932-17-001489-2.txt ]\n",
      "X_test.values[ 91 ] Predicted Others Actual MC File:[errI=352 MC-275/0001376474-17-000071-4.txt ]\n",
      "X_test.values[ 92 ] Predicted MC Actual AoI File:[errI=204 AoI-275/0001402057-16-000057-2.txt ]\n",
      "X_test.values[ 101 ] Predicted AoI Actual Others File:[errI=709 Others-275/new 33.txt ]\n",
      "X_test.values[ 106 ] Predicted Others Actual MC File:[errI=273 MC-275/0001193125-17-123414-8.txt ]\n",
      "X_test.values[ 110 ] Predicted Others Actual MC File:[errI=343 MC-275/0001349929-17-000024-5.txt ]\n",
      "X_test.values[ 111 ] Predicted Others Actual MC File:[errI=480 MC-275/0001511164-17-000176-10.txt ]\n",
      "X_test.values[ 118 ] Predicted MC Actual Others File:[errI=580 Others-275/new 165.txt ]\n",
      "X_test.values[ 120 ] Predicted MC Actual AoI File:[errI=117 AoI-275/0001213900-16-011794-3.txt ]\n",
      "X_test.values[ 124 ] Predicted Others Actual MC File:[errI=274 MC-275/0001193125-17-123414-9.txt ]\n",
      "X_test.values[ 125 ] Predicted Others Actual AoI File:[errI=4 AoI-275/0001144204-17-014248-3.txt ]\n",
      "X_test.values[ 132 ] Predicted AoI Actual Others File:[errI=537 Others-275/new 126.txt ]\n",
      "X_test.values[ 134 ] Predicted MC Actual AoI File:[errI=22 AoI-275/0001171843-15-001395-3.txt ]\n",
      "X_test.values[ 139 ] Predicted Others Actual MC File:[errI=442 MC-275/0001493152-17-002701-17.txt ]\n",
      "X_test.values[ 145 ] Predicted MC Actual Others File:[errI=578 Others-275/new 163.txt ]\n",
      "X_test.values[ 149 ] Predicted AoI Actual Others File:[errI=705 Others-275/new 3.txt ]\n",
      "X_test.values[ 152 ] Predicted Others Actual MC File:[errI=305 MC-275/0001213900-17-003750-2.txt ]\n",
      "X_test.values[ 158 ] Predicted AoI Actual MC File:[errI=267 MC-275/0001193125-17-123414-2.txt ]\n",
      "X_test.values[ 180 ] Predicted MC Actual Others File:[errI=547 Others-275/new 135.txt ]\n",
      "X_test.values[ 181 ] Predicted Others Actual MC File:[errI=494 MC-275/0001513965-17-000059-7.txt ]\n",
      "X_test.values[ 182 ] Predicted Others Actual MC File:[errI=339 MC-275/0001331757-17-000006-4.txt ]\n",
      "X_test.values[ 185 ] Predicted Others Actual MC File:[errI=288 MC-275/0001213900-17-003042-3.txt ]\n",
      "X_test.values[ 187 ] Predicted MC Actual Others File:[errI=559 Others-275/new 146.txt ]\n",
      "X_test.values[ 201 ] Predicted AoI Actual Others File:[errI=620 Others-275/new 200.txt ]\n",
      "X_test.values[ 207 ] Predicted Others Actual MC File:[errI=506 MC-275/0001553350-17-000349-5.txt ]\n",
      "X_test.values[ 208 ] Predicted AoI Actual MC File:[errI=500 MC-275/0001553350-17-000313-4.txt ]\n",
      "X_test.values[ 212 ] Predicted AoI Actual MC File:[errI=491 MC-275/0001513965-17-000059-4.txt ]\n",
      "X_test.values[ 225 ] Predicted MC Actual Others File:[errI=621 Others-275/new 201.txt ]\n",
      "X_test.values[ 229 ] Predicted MC Actual Others File:[errI=631 Others-275/new 210.txt ]\n",
      "X_test.values[ 238 ] Predicted MC Actual AoI File:[errI=146 AoI-275/0001260221-16-000107-5.txt ]\n",
      "X_test.values[ 239 ] Predicted Others Actual MC File:[errI=286 MC-275/0001213900-17-003028-2.txt ]\n",
      "X_test.values[ 246 ] Predicted Others Actual MC File:[errI=450 MC-275/0001493152-17-002726-2.txt ]\n",
      "X_test.values[ 248 ] Predicted Others Actual MC File:[errI=396 MC-275/0001437749-17-005382-2.txt ]\n",
      "X_test.values[ 250 ] Predicted AoI Actual MC File:[errI=323 MC-275/0001310067-17-000005-6.txt ]\n",
      "X_test.values[ 251 ] Predicted Others Actual MC File:[errI=337 MC-275/0001331757-17-000006-2.txt ]\n",
      "X_test.values[ 262 ] Predicted Others Actual MC File:[errI=407 MC-275/0001437749-17-005720-2.txt ]\n",
      "X_test.values[ 269 ] Predicted Others Actual MC File:[errI=436 MC-275/0001493152-17-002701-11.txt ]\n",
      "X_test.values[ 271 ] Predicted Others Actual MC File:[errI=457 MC-275/0001493152-17-002873-3.txt ]\n",
      "X_test.values[ 292 ] Predicted MC Actual AoI File:[errI=89 AoI-275/0001193125-16-523979-3.txt ]\n",
      "X_test.values[ 294 ] Predicted Others Actual MC File:[errI=309 MC-275/0001213900-17-003784-5.txt ]\n",
      "X_test.values[ 305 ] Predicted Others Actual MC File:[errI=479 MC-275/0001494448-17-000024-3.txt ]\n",
      "X_test.values[ 307 ] Predicted MC Actual AoI File:[errI=138 AoI-275/0001260221-16-000107-14.txt ]\n",
      "X_test.values[ 311 ] Predicted Others Actual MC File:[errI=287 MC-275/0001213900-17-003042-2.txt ]\n",
      "52  misses in TestData\n"
     ]
    }
   ],
   "source": [
    "#pipelining\n",
    "from sklearn.pipeline import Pipeline\n",
    "\n",
    "#DT\n",
    "from sklearn.tree import DecisionTreeClassifier\n",
    "text_clf_dt = Pipeline([('vect', CountVectorizer(stop_words='english',ngram_range=(1,3), )),\n",
    "                     ('tfidf', TfidfTransformer()),\n",
    "                     ('clf',DecisionTreeClassifier(\n",
    "                         criterion='gini', splitter='best', max_depth=None, \n",
    "                         min_samples_split=2, min_samples_leaf=1, min_weight_fraction_leaf=0.0,\n",
    "                         max_features=None, random_state=None, max_leaf_nodes=None, min_impurity_decrease=0.0,\n",
    "                         min_impurity_split=None, class_weight=None, presort=False))\n",
    "                    ])\n",
    "\n",
    "#fit_transforms of data to pipeline\n",
    "fit_dt=text_clf_dt.fit(X_train,Y_train)\n",
    "\n",
    "#testing model\n",
    "print(\"--> Accuracy\")\n",
    "print(\"TRAIN\",text_clf_dt.score(X_train,Y_train))\n",
    "print(\"TEST\",text_clf_dt.score(X_test,Y_test))\n",
    "\n",
    "#misClassifications\n",
    "print(\"--> Train MisClassification\")\n",
    "TRpredicted_dt = text_clf_dt.predict(X_train)\n",
    "misClTr_dt=list()\n",
    "#sklearn.metrics.confusion_matrix\n",
    "display(HTML(pd.crosstab(Y_train,TRpredicted_dt,rownames=[\"True\"],colnames=[\"Train_Predicted\"],margins=True).to_html()))\n",
    "for i in range(len(TRpredicted_dt)):\n",
    "    if TRpredicted_dt[i]!=Y_train.iloc[i]:\n",
    "        print(\"X_Train.values[\",i,\"] Predicted\",TRpredicted_dt[i],\"Actual\",Y_train.iloc[i],\n",
    "              \"File:[errI=\"+str(X_train.index[i]),newfiles[X_train.index[i]],\"]\")\n",
    "        misClTr_dt.append(i)\n",
    "print(len(misClTr_dt),\" misses in TrainData\")\n",
    "\n",
    "print(\"--> Test MisClassification\")\n",
    "TSpredicted_dt = text_clf_dt.predict(X_test)\n",
    "misClTs_dt=list()\n",
    "#sklearn.metrics.confusion_matrix\n",
    "display(HTML(pd.crosstab(Y_test,TSpredicted_dt,rownames=[\"True\"],colnames=[\"Test_Predicted\"],margins=True).to_html()))\n",
    "for i in range(len(TSpredicted_dt)):\n",
    "    if TSpredicted_dt[i]!=Y_test.iloc[i]:\n",
    "        print(\"X_test.values[\",i,\"] Predicted\",TSpredicted_dt[i],\"Actual\",Y_test.iloc[i],\n",
    "              \"File:[errI=\"+str(X_test.index[i]),newfiles[X_test.index[i]],\"]\")\n",
    "        misClTs_dt.append(i)\n",
    "print(len(misClTs_dt),\" misses in TestData\")\n"
   ]
  },
  {
   "cell_type": "code",
   "execution_count": 12,
   "metadata": {
    "collapsed": false
   },
   "outputs": [
    {
     "name": "stdout",
     "output_type": "stream",
     "text": [
      "495 TRAINdata MC-275/0001515971-17-000057-2.txt MODIFICATION TO THE AGREEMENT This Modification to the GEMSTONE PROCESSING AGREEMENT The Agreement made and entered into by and between QUALITECH INC HEREAFTER QTI and INTERNATIONAL ISOTOPES INC hereafter INIS WITNESSETH WHEREAS INIS has requested an adjustment to the Processing Charge and implementation of an annual inflationary index to make further adjustments to that Processing Charge and WHEREAS QTI is willing to allow such adjustments NOW THEREFORE in consideration of the above the parties agree to modify the original Agreement dated June as follows Effective January the Processing Charge will be increased to per carat On March I and each year thereafter the Processing Charge shall be adjusted by an amount equal to the annual percentage change in the Services Special Aggregate index listed in Table of data provided by the US Bureau of Labor Statistics Historical CPI All other provisions of the Agreement remain in full force and effect IN WITNESS WHERE OF the parties have executed this agreement as of the day and year as signed below QUALITECH INC INTERNATIONAL ISOTOPES INC s Don Alger s Steve Laflin Don Alger Date Steve Laflin Date \n"
     ]
    }
   ],
   "source": [
    "#study misclassified doc errI [by filename or errI_index]\n",
    "errI=newfiles.index('MC-275/0001553350-17-000313-4.txt')\n",
    "errI=495\n",
    "print(errI,\"TESTdata\" if errI in X_test else \"TRAINdata\",newfiles[errI],X_test.get(errI,0) or X_train.get(errI,0))\n",
    "#os.system(\"np++ \"+newfiles[errI])"
   ]
  },
  {
   "cell_type": "markdown",
   "metadata": {},
   "source": [
    "### Linear Standard Grad. Descent"
   ]
  },
  {
   "cell_type": "code",
   "execution_count": 13,
   "metadata": {
    "collapsed": false
   },
   "outputs": [
    {
     "name": "stdout",
     "output_type": "stream",
     "text": [
      "--> Accuracy\n",
      "TRAIN 0.9978586723768736\n",
      "TEST 0.9555555555555556\n",
      "--> Train MisClassification\n"
     ]
    },
    {
     "data": {
      "text/html": [
       "<table border=\"1\" class=\"dataframe\">\n",
       "  <thead>\n",
       "    <tr style=\"text-align: right;\">\n",
       "      <th>Train_Predicted</th>\n",
       "      <th>AoI</th>\n",
       "      <th>MC</th>\n",
       "      <th>Others</th>\n",
       "      <th>All</th>\n",
       "    </tr>\n",
       "    <tr>\n",
       "      <th>True</th>\n",
       "      <th></th>\n",
       "      <th></th>\n",
       "      <th></th>\n",
       "      <th></th>\n",
       "    </tr>\n",
       "  </thead>\n",
       "  <tbody>\n",
       "    <tr>\n",
       "      <th>AoI</th>\n",
       "      <td>153</td>\n",
       "      <td>0</td>\n",
       "      <td>0</td>\n",
       "      <td>153</td>\n",
       "    </tr>\n",
       "    <tr>\n",
       "      <th>MC</th>\n",
       "      <td>0</td>\n",
       "      <td>142</td>\n",
       "      <td>0</td>\n",
       "      <td>142</td>\n",
       "    </tr>\n",
       "    <tr>\n",
       "      <th>Others</th>\n",
       "      <td>0</td>\n",
       "      <td>1</td>\n",
       "      <td>171</td>\n",
       "      <td>172</td>\n",
       "    </tr>\n",
       "    <tr>\n",
       "      <th>All</th>\n",
       "      <td>153</td>\n",
       "      <td>143</td>\n",
       "      <td>171</td>\n",
       "      <td>467</td>\n",
       "    </tr>\n",
       "  </tbody>\n",
       "</table>"
      ],
      "text/plain": [
       "<IPython.core.display.HTML object>"
      ]
     },
     "metadata": {},
     "output_type": "display_data"
    },
    {
     "name": "stdout",
     "output_type": "stream",
     "text": [
      "X_Train.values[ 245 ] Predicted MC Actual Others File:[errI=544 Others-275/new 132.txt ]\n",
      "1  misses in TrainData\n",
      "--> Test MisClassification\n"
     ]
    },
    {
     "data": {
      "text/html": [
       "<table border=\"1\" class=\"dataframe\">\n",
       "  <thead>\n",
       "    <tr style=\"text-align: right;\">\n",
       "      <th>Test_Predicted</th>\n",
       "      <th>AoI</th>\n",
       "      <th>MC</th>\n",
       "      <th>Others</th>\n",
       "      <th>All</th>\n",
       "    </tr>\n",
       "    <tr>\n",
       "      <th>True</th>\n",
       "      <th></th>\n",
       "      <th></th>\n",
       "      <th></th>\n",
       "      <th></th>\n",
       "    </tr>\n",
       "  </thead>\n",
       "  <tbody>\n",
       "    <tr>\n",
       "      <th>AoI</th>\n",
       "      <td>87</td>\n",
       "      <td>0</td>\n",
       "      <td>2</td>\n",
       "      <td>89</td>\n",
       "    </tr>\n",
       "    <tr>\n",
       "      <th>MC</th>\n",
       "      <td>0</td>\n",
       "      <td>118</td>\n",
       "      <td>5</td>\n",
       "      <td>123</td>\n",
       "    </tr>\n",
       "    <tr>\n",
       "      <th>Others</th>\n",
       "      <td>0</td>\n",
       "      <td>7</td>\n",
       "      <td>96</td>\n",
       "      <td>103</td>\n",
       "    </tr>\n",
       "    <tr>\n",
       "      <th>All</th>\n",
       "      <td>87</td>\n",
       "      <td>125</td>\n",
       "      <td>103</td>\n",
       "      <td>315</td>\n",
       "    </tr>\n",
       "  </tbody>\n",
       "</table>"
      ],
      "text/plain": [
       "<IPython.core.display.HTML object>"
      ]
     },
     "metadata": {},
     "output_type": "display_data"
    },
    {
     "name": "stdout",
     "output_type": "stream",
     "text": [
      "X_test.values[ 20 ] Predicted MC Actual Others File:[errI=625 Others-275/new 205.txt ]\n",
      "X_test.values[ 33 ] Predicted Others Actual MC File:[errI=361 MC-275/0001387131-17-001719-2.txt ]\n",
      "X_test.values[ 48 ] Predicted Others Actual MC File:[errI=302 MC-275/0001213900-17-003160-6.txt ]\n",
      "X_test.values[ 57 ] Predicted Others Actual AoI File:[errI=105 AoI-275/0001193794-03-000005-5.txt ]\n",
      "X_test.values[ 68 ] Predicted MC Actual Others File:[errI=545 Others-275/new 133.txt ]\n",
      "X_test.values[ 118 ] Predicted MC Actual Others File:[errI=580 Others-275/new 165.txt ]\n",
      "X_test.values[ 132 ] Predicted MC Actual Others File:[errI=537 Others-275/new 126.txt ]\n",
      "X_test.values[ 134 ] Predicted Others Actual AoI File:[errI=22 AoI-275/0001171843-15-001395-3.txt ]\n",
      "X_test.values[ 145 ] Predicted MC Actual Others File:[errI=578 Others-275/new 163.txt ]\n",
      "X_test.values[ 152 ] Predicted Others Actual MC File:[errI=305 MC-275/0001213900-17-003750-2.txt ]\n",
      "X_test.values[ 180 ] Predicted MC Actual Others File:[errI=547 Others-275/new 135.txt ]\n",
      "X_test.values[ 187 ] Predicted MC Actual Others File:[errI=559 Others-275/new 146.txt ]\n",
      "X_test.values[ 207 ] Predicted Others Actual MC File:[errI=506 MC-275/0001553350-17-000349-5.txt ]\n",
      "X_test.values[ 262 ] Predicted Others Actual MC File:[errI=407 MC-275/0001437749-17-005720-2.txt ]\n",
      "14  misses in TestData\n"
     ]
    }
   ],
   "source": [
    "#pipelining\n",
    "from sklearn.pipeline import Pipeline\n",
    "\n",
    "#sgd\n",
    "from sklearn.linear_model import SGDClassifier\n",
    "text_clf_sgd = Pipeline([('vect', CountVectorizer(stop_words='english',ngram_range=(1,3), )),\n",
    "                     ('tfidf', TfidfTransformer()),\n",
    "                     ('clf',SGDClassifier(loss='hinge', penalty='l2',\n",
    "                                           alpha=1e-3, random_state=42,\n",
    "                                           max_iter=5, tol=None))\n",
    "                    ])\n",
    "\n",
    "#fit_transforms of data to pipeline\n",
    "fit_sgd=text_clf_sgd.fit(X_train,Y_train)\n",
    "\n",
    "#testing model\n",
    "print(\"--> Accuracy\")\n",
    "print(\"TRAIN\",text_clf_sgd.score(X_train,Y_train))\n",
    "print(\"TEST\",text_clf_sgd.score(X_test,Y_test))\n",
    "\n",
    "#misClassifications\n",
    "print(\"--> Train MisClassification\")\n",
    "TRpredicted_sgd = text_clf_sgd.predict(X_train)\n",
    "misClTr_sgd=list()\n",
    "#sklearn.metrics.confusion_matrix\n",
    "display(HTML(pd.crosstab(Y_train,TRpredicted_sgd,rownames=[\"True\"],colnames=[\"Train_Predicted\"],margins=True).to_html()))\n",
    "for i in range(len(TRpredicted_sgd)):\n",
    "    if TRpredicted_sgd[i]!=Y_train.iloc[i]:\n",
    "        print(\"X_Train.values[\",i,\"] Predicted\",TRpredicted_sgd[i],\"Actual\",Y_train.iloc[i],\n",
    "              \"File:[errI=\"+str(X_train.index[i]),newfiles[X_train.index[i]],\"]\")\n",
    "        misClTr_sgd.append(i)\n",
    "print(len(misClTr_sgd),\" misses in TrainData\")\n",
    "\n",
    "print(\"--> Test MisClassification\")\n",
    "TSpredicted_sgd = text_clf_sgd.predict(X_test)\n",
    "misClTs_sgd=list()\n",
    "#sklearn.metrics.confusion_matrix\n",
    "display(HTML(pd.crosstab(Y_test,TSpredicted_sgd,rownames=[\"True\"],colnames=[\"Test_Predicted\"],margins=True).to_html()))\n",
    "for i in range(len(TSpredicted_sgd)):\n",
    "    if TSpredicted_sgd[i]!=Y_test.iloc[i]:\n",
    "        print(\"X_test.values[\",i,\"] Predicted\",TSpredicted_sgd[i],\"Actual\",Y_test.iloc[i],\n",
    "              \"File:[errI=\"+str(X_test.index[i]),newfiles[X_test.index[i]],\"]\")\n",
    "        misClTs_sgd.append(i)\n",
    "print(len(misClTs_sgd),\" misses in TestData\")\n"
   ]
  },
  {
   "cell_type": "code",
   "execution_count": 15,
   "metadata": {
    "collapsed": false
   },
   "outputs": [
    {
     "name": "stdout",
     "output_type": "stream",
     "text": [
      "626 TRAINdata Others-275/new 206.txt  AGREEMENT AS TO VOTING AGREEMENT as to voting effective November by and among WILLIAM C MOOG JANE B MOOG RICHARD A AUBRECHT NANCY MOOG AUBRECHT CONSTANCE MOOG SILLIMAN JEANNE M MOOG DOUGLAS B MOOG SUSAN L MOOG JAMES R SILLIMAN Jr and MICHAEL K SILLIMAN all individually referred to as previously indicated or as Holder and sometimes collectively referred to as Holders and ALBERT K HILL WITNESSETH THAT WHEREAS A WCM was the founder and motivating force in the organization and success of Moog Inc a New York corporation the Company and B WCM JBM and RAA are currently Directors and WCM is the Chairman of the Board President and Chief Executive Officer and RAA is also an Executive Officer of the Company and C Holders in their own right andor in various capacities such as custodians trustees trust beneficiaries and custodial beneficiaries are record andor beneficial owners of a substantial number of shares of Class A Common Stock and Class B Common Stock each of l par value of the Company and D WCM and JBM are husband and wife and RAA is their son inlaw and JMM is their daughterinlaw and NMA CMS DBM and SLM are all children of WCM and JBM and JRS and MKS are each grandchildren of WCM and JBM and EXHIBIT E Holders have agreed that the execution of this Agreement is in the best interest of the Company and will serve to promote harmonious relationships among themselves with respect to the management and conduct of the affairs of the Company and F Holders are entering into this Agreement with the intention that it serve not only as an Agreement as to voting rights as provided for in Section of the Business Corporation Law of the State of New York but also with the intention that it will limit and restrict the sale pledge transfer or other disposition of shares of stock of the Company held by the parties to the specific circumstances provided in this Agreement NOW THERFORE in consideration of the premises and of the mutual covenants and obligations herein the parties hereto agree as follows I SHARES SUBJECT TO AGREEMENT VOTING Shares Subject to Agreement Each Holder other than WCM and JBM agrees that all shares of Class A or Class B Common Stock or other voting stock of the Company now or hereafter beneficially owned by them directly or indirectly will at all times be held subject to this Agreement and that any voting rights relating to any such shares will at all times be exercised solely in accordance with and pursuant to the provisions of Article II of this Agreement and further that the restrictions contained in Article III shall at all times be applicable to all such shares Annex A attached hereto lists the shares of WCM and JBM which are subject to this Agreement and also lists the class of shares ownership and capacities in which held for all other holders Release from Agreement Any shares subject to this Agreement may be released from some or all of the provisions of this Agreement for a limited time or on a permanent basis solely upon a vote taken in accordance with the provisions of Section of this Agreement Irrevocable Proxy Each of the parties hereto other than AKH agrees that promptly upon execution of this Agreement he will deliver to the Electors named in Section an irrevocable proxy to vote in accordance with the provisions of this Agreement all shares of stock held by such party provided however that WCM and JBM will deliver such a proxy only with respect to those shares of stock listed on Annex A Such irrevocable proxy shall be in substantially the form of Annex B attached hereto and shall be prepared executed and delivered in accordance with the provisions of Section of the Business Corporation Law of the State of New York Additional Parties Any descendants or spouses of descendants of WCM and JBM may become parties hereto by signing and acknowledging a writing indicating their intent to be bound by the terms of this Agreement Legend Each party agrees that all certificates for shares of stock of the Company owned or held by him which are subject to this Agreement shall bear a legend on the face or reverse thereof in substantially the following form Voting rights on the shares represented by this certificate as well as the sale transfer pledge assignment or encumbrance are restricted by the terms of an Agreement among the registered holder of this certificate and others a copy of which may be examined during normal business hours at Main Place Tower Buffalo New York II ELECTORS MANNER OF VOTING Electors WCM JBM RAA CMS JMM DBM SLM and AKH are hereby designated as Electors for purposes of taking any action under this Agreement to exercise any voting rights on shares of stock of the Company Voting Rights of Electors The Electors collectively as herein provided shall have the full and absolute right to vote all shares of Class A and Class B Common Stock of the Company held by the parties in accordance with the provisions of this Agreement Such voting shall include the election of Directors the amendment of the Certificate of Incorporation or the ByLaws the merger or consolidation of the Company or the disposition of all or substantially all of the assets of the Company and in addition if any party seeks approval or permission to remove shares from the restrictions and limitations of this Agreement for any purpose approval of any such action shall be made by the Electors as provided in Article II Electors Action During Life of WCM During the life of WCM the Electors shall take any action and shall cause all shares subject to this Agreement to be voted as may be determined jointly by WCM and JBM Electors Action During Life of JBM Upon the death of WCM and during the lifetime of JBM the Electors shall take any action and shall cause all shares subject to this Agreement to be voted as may be determined by JBM Electors Action After Death of WCM and JBM Following the death of both WCM and JBM the Electors shall take any action and shall vote all shares subject to this Agreement as may be determined by the vote of twothirds of the Electors Removal from Provisions of Agreement Any party seeking approval to remove all or any shares of stock owned by such party from the provisions of this Agreement on a limited or permanent basis must have the approval of WCM and JBM during their lifetimes Conversion of Shares Any party desiring to convert any shares of Class B Common Stock into shares of Class A Common Stock of the Company shall obtain the approval of the Electors to such conversion in accordance with the provisions of Section or as the case may be Successor Elector WCM and JBM jointly or the survivor of them at any time shall have the right by an instrument in writing executed with the same formality required for the conveyance of real property in the State of New York to designate a successor to AKH which designation will become effective upon the death resignation or removal of AKH In the event of death resignation or removal of WCM or JBM there shall be no successor to such party but in the case of the death resignation or removal of any other designated Elector such Electors eldest living child shall be the successor unless the Elector shall appoint a successor by an instrument in writing executed with the same formality required for the conveyance of real property in the State of New York Any such appointment to be effective shall be from the class of the designated Electors spouse and descendants who are bound by the terms of this Agreement In the event of the death resignation or removal of any successor Elector other than a successor to AKH all subsequent successors to that Electors position shall be elected by those persons bound by the terms of the Agreement who are descendants or spouses of descendants of the Elector originally designated for the position to be filled The election shall be by weighted vote of those beneficially owned shares of stock covered by this Agreement with each B share being entitled to ten votes and each A share being entitled to one vote Determination of Action Any action required or permitted to be taken by the Electors may be taken at a meeting held on three days written or telephoned notice provided that a quorum of at least the number of Electors whose affirmative vote is required under Sections or as the case may be is present or by an instrument in writing signed by all Electors Verification of Action Any person shall be indemnified and held harmless by the Electors from any claim loss or damage allegedly arising out of action taken in reliance on a certification that the Electors have validly taken action under Section if such certification is executed by WCM JBM or AKH or such other Elector as may be determined by action under Section or as the case may be IIIRESTRICTIONS ON TRANSPER OPTIONS PURCHASE OF SHARES Restrictions on Transfer Each of the Holders expressly agrees Not to sell transfer pledge assign or otherwise in any manner dispose of or encumber any shares of Company at any time owned by him and subject to this Agreement unless and until he shall have first offered to sell such shares to the other Holders and thereafter to the Company at a price to be determined as provided in Section The foregoing restriction shall not apply in the case of transfers directly or indirectly to or for the benefit of another Holder including for purposes of this Section l a spouse or descendant of a Holder provided that the transferee if not already a party to this Agreement shall become such immediately upon said transfer No dividend shall be paid on any shares sold transferred pledged assigned or encumbered in breach of this Agreement Options Successive options on the part of the other Holders and thereafter the Company to purchase all or any of the shares owned by the Holder referred to in or of this Section as the case may be at a price determined as provided in Section shall arise upon the happening of any one or more of the following events death of a Holder or receipt by the other Holders of an offer to sell shares made pursuant to Section Option Periods An option arising under section shall remain in force for successive periods of days following the receipt of the offer if the option arise under Section or for successive periods of days after the other Holders have received notice of the appointment of the personal representative of a deceased Holder if the option arises under Section Notice of Option and Exercise An offer to sell pursuant to Section or a notice pursuant to Section shall be in writing and given to each of the Holders and to the Company in accordance with Section An offer to sell pursuant to Section shall be accompanied by a copy of any bona fide offer relied upon by the offeror An option on the part of the Holder or the Company may be exercised within the period specified in Section by the giving of notice of such exercise by the Holders or the Company as the case may be to the Holder whose shares are to be purchased or his personal representative as the case may be If no such notice of exercise be given within the time specified in Section then the offeror or his personal representative as the case may be may during the period of O days thereafter transfer the shares as to which the option shall not have been exercised free of the restrictions of Section provided however that if such option shall arise by reason of Section then such transfer shall be at a price not less than and on terms and conditions no more favorable than those specified in any bona fide offer relied upon by such Holder Proportions on Exercise Holders who exercise any option to purchase given under this Agreement shall participate in any purchase in proportion to their holdings of the class of shares offered which are subject to this Agreement unless some other pro portion is agreed upon in writing by the purchasers A right to acquire shares pursuant to this Agreement may be transferred or assigned only to another Holder as define in Section l Option Price In the event an option to purchase shares shall arise under Section the option price of such shares shall be a price per share equal to the average between the high and the low prices of such stock on the American Stock Exchange on the day of death if the option arises under Section or on the day of receipt of the offer if the option rises under Section Payment for Shares Payment for shares purchased pursuant to this Agreement shall be made certificates for the shares duly endorsed for transfer with all required Federal and State Transfer Stamps affixed shall be delivered and title to the shares shall pass as follows percent of the purchase price shall be paid in cash within days after exercise of the option the remaining percent shall be paid in equal monthly installments to be represented by a promissory note of the purchaser bearing interest payable monthly at the highest rate of interest legally permissible at the beginning of the month in which paid Title to the shares shall pass to the purchaser immediately upon payment of percent of the purchase price in cash and delivery of the notes and certificates for the shares duly endorsed for transfer shall thereupon be delivered to the purchaser The purchaser shall thereupon pledge such certificates to the seller who shall hold them as security for payment of the notes but unless and until a default occurs under the terms of one or more of the notes the purchaser shall have the sole right to vote the shares as such right may be modified by the provisions of this Agreement and collect all dividends and other distributions thereon Upon the payment of the last note and all accumulated interest the certificates shall be redelivered to the purchaser free and clear of such pledge IV DURATION TERMINATION NOTICES Duration Unless terminated in accordance with this Section this Agreement shall continue in force until December and thereafter shall be renewed automatically from year to year unless at least days before December in any year any party hereto shall give to the other parties notice in writing of his election to have the Agreement terminate on December of such year All notices pursuant to this Agreement shall be given in accordance with Section Termination This Agreement shall also terminate upon the occurrence of any of the following events Cessation of Companys business Bankruptcy receivership or dissolution of Company Upon mutual agreement of the holders of percent of the shares of Company subject to this Agreement Whenever there is only one surviving Holder bound by the terms hereof or Upon five days notice by Company that at least twothirds of the holders of record of shares entitled to vote thereon have approved a merger consolidation reorganization or plan for liquidation dissolution or sale of substantially all of the Companys assets Notices All notices requests demands and other communications relating to this Agreement or required or permitted hereunder shall be in writing and shall be deemed to have been duly given when received if personally delivered or mailed firstclass postage prepaid addressed to the address of the party to whom such notice is directed as it appears on the records of Company V SETTLEMENT OF DISPUTES Arbitration All disputes differences and controversies of any nature whatsoever relating to or arising under or in connection with this Agreement shall be settled and finally determined by arbitration in the City of Buffalo New York under the then existing Rules of the American Arbitration Association VI MISCELLANEOUS PROVISIONS Entire Agreement This instrument contains the entire agreement of the parties with respect to its subject matter and supercedes and replaces any prior agreement or understanding and no amendment modification or waiver of any provision hereof shall be valid unless it be in writing and signed by all the parties hereto NonWaiver The waiver of or failure to take action with regard to any breach of any term or condition of this Agreement shall not be deemed to constitute a continuing waiver or a waiver of any other breach of the same or any other term or condition Paragraph and Other Headings The paragraph and other headings contained in this Agreement are for reference purposes only and shall not in any way affect the meaning or interpretation of this Agreement Counterparts This Agreement may be executed simultaneously in two or more counterparts any of which shall be deemed an original and all of which shall constitute one and the same instrument notwithstanding that all of the parties are not signatory to the original or the same counterpart Persons Bound This Agreement and all of the provisions hereof shall be binding upon and inure to the benefit of the parties and their respective legal representatives heirs distributees successors and assigns including any shareholders of the Company who may subsequently become parties by their signatures at the end hereof Choice of Law This Agreement shall be construed and enforced in accordance with and governed by the laws of the State of New York Gender and Number The masculine gender as used in this Agreement shall be deemed to refer to and include the feminine and neuter genders and the singular or plural when required by the context shall be deemed to include the plural or singular as the case may be the word person shall include corporation firm partnership or other form of association Severability If any provision of this Agreement or the application thereof to any person or circumstances is held invalid the remainder of this Agreement and the application of such provision to other persons and circumstances shall not be affected thereby Inconsistent Provisions If any provision of this Agreement is inconsistent with any provision of any other document required or executed pursuant to this Agreement the provisions of this Agreement shall be controlling and supercede such other document IN WITNESS WHEREOF the parties have hereunto set their hands and seals the day and year first above written s Jane M Moog Jane M Moog s Douglas B Moog Douglas B Moog STATE OF NEW YORK SS COUNTY OF ERIE On this day of September before me the subscriber personally appeared William C Moog to me known and known to me to be the same person described in and who executed the within instrument and he acknowledged to me that he executed the same STATE OF NEW YORK SS COUNTY OF ERIE On this day of September before me the subscriber personally appeared Jane B Moog to me known and known to me to be the same person described in and who executed the within instrument and she acknowledged to me that she executed the same STATE OF NEW YORK SS COUNTY OF ERIE On this day of September before me the subscriber personally appeared Richard A Aubrecht to me known and known to me to be the same person described in and who executed the within instrument and he acknowledged to me that he executed the same STATE OF NEW YORK SS COUNTY OF ERIE On this day of September before me the subscriber personally appeared Constance M Silliman to me known and known to me to be the same person described in and who executed the within instrument and she acknowledged to me that she executed the same STATE OF NEW YORK SS COUNTY OF ERIE On this day of September before me the subscriber personally appeared Nancy M Aubrecht to me known and known to me to be the same person described in and who executed the within instrument and she acknowledged to me that she executed the same STATE OF NEW YORK SS COUNTY OF ERIE On this day of September before me the subscriber personally appeared Jeanne M Moog to me known and known to me to be the same person described in and who executed the within instrument and she acknowledged to me that she executed the same STATE OF NEW YORK SS COUNTY OF ERIE On this day of September before me the subscriber personally appeared James R Silliman Jr to me known and known to me to be the same person described in and who executed the within instrument and he acknowledged to me that he executed the same STATE OF NEW YORK SS COUNTY OF ERIE On this day of September before me the subscriber personally appeared Michael K Silliman to me known and known to me to be the same person described in and who executed the within instrument and he acknowledged to me that he executed the same STATE OF CALIFORNIA SS COUNTY OF ALAMDEA On this day of October before me the subscriber personally appeared Douglas B Moog to me known and known to me to be the same person described in and who executed the within instrument and he acknowledged to me that he executed he same STATE OF CALIFORNIA SS COUNTY OF SAN FRANCISCO On this day of September before me the subscriber personally appeared Susan L Moog to me known and known to me to be the same person described in and who executed the within instrument and she acknowledged to me that she executed he same STATE OF NEW YORK SS COUNTY OF ERIE On this day of December before me the subscriber personally appeared Albert K Hill to me known and known to me to be the same person described in and who executed the within instrument and he acknowledged to me that he executed the same SHARE OWNERSHIP OF PARTIES TO AGREEMENT AS TO VOTING NAME CAPACITIES IN WHICH OWNED CLASS A CERTIFICATE NO NO OF SHARES CLASS B CERTIFICATE NO NO OF SHARES ANNEX A IRREVOCABLE PROXY KNOW ALL MEN BY THESE PRESENTS that I do hereby nominate constitute and appoint WILLIAM C MOOG JANE B MOOG RICHARD A AUBRECBT CONSTANCE MOOG SILLIMAN JEANNE M MOOG DOUGLAS B MOOG SUSAN L MOOG and ALBERT K HILL or such of them as may be provided in an Agreement as to voting dated September to which said persons and the undersigned parties as my true and lawful attorneys and proxies to attend any meeting of shareholders of MOOG INC a New York corporation and at any such meeting to vote the number of shares standing in my name on the share records of the Company which I would be entitled to vote if personally present at such meeting and otherwise to take any action under such Agreement as to voting and to exercise any voting rights on any shares of stock of the Company standing in my name individually as custodian or as trustee or as to which any beneficial ownership on my part may entitle me to exercise any such voting rights or to take any such action The Agreement referred to above is an Agreement as to voting executed in accordance with the provisions of Section of the Business Corporation Law of the State of New York and this Proxy is intended to and shall be irrevocable to the extent and for the period of time provided in Subdivision of Section of the Business Corporation Law of the State of New York IN WITNESS WHEREOF the undersigned has executed and sealed this Irrevocable Proxy on September individually as trustee and as custodian and in addition as to all shares beneficially owned by the undersigned STATE OF NEW YORK SS COUNTY OF ERIE On this day of September before me the subscriber personally appeared to me known and known to me to be the same person described in and who executed the within instrument and he acknowledged to me that he executed the same ANNEX B \n"
     ]
    }
   ],
   "source": [
    "#study misclassified doc errI [by filename or errI_index]\n",
    "errI=newfiles.index('Others-275/new 206.txt')\n",
    "#errI=495\n",
    "print(errI,\"TESTdata\" if errI in X_test else \"TRAINdata\",newfiles[errI],X_test.get(errI,0) or X_train.get(errI,0))\n",
    "#os.system(\"np++ \"+newfiles[errI])"
   ]
  },
  {
   "cell_type": "markdown",
   "metadata": {},
   "source": [
    "## Tinkering with models"
   ]
  },
  {
   "cell_type": "code",
   "execution_count": 18,
   "metadata": {
    "collapsed": false
   },
   "outputs": [
    {
     "data": {
      "text/plain": [
       "(array([[9.61320746e-12, 4.81030500e-11, 1.00000000e+00]]),\n",
       " array(['AoI', 'MC', 'Others'], dtype='<U6'))"
      ]
     },
     "execution_count": 18,
     "metadata": {},
     "output_type": "execute_result"
    }
   ],
   "source": [
    "text_clf_nb.predict_proba([X_train[626]]),text_clf_nb.classes_"
   ]
  },
  {
   "cell_type": "code",
   "execution_count": 22,
   "metadata": {
    "collapsed": false
   },
   "outputs": [],
   "source": [
    "rsTr=text_clf_nb.predict_proba(X_train)"
   ]
  },
  {
   "cell_type": "code",
   "execution_count": 50,
   "metadata": {
    "collapsed": false
   },
   "outputs": [
    {
     "data": {
      "text/plain": [
       "9.947598300641403e-14"
      ]
     },
     "execution_count": 50,
     "metadata": {},
     "output_type": "execute_result"
    }
   ],
   "source": [
    "sum([sum(x) for x in rs[:100]])-100"
   ]
  },
  {
   "cell_type": "code",
   "execution_count": 47,
   "metadata": {
    "collapsed": false
   },
   "outputs": [
    {
     "data": {
      "text/plain": [
       "0.9996213359923677"
      ]
     },
     "execution_count": 47,
     "metadata": {},
     "output_type": "execute_result"
    }
   ],
   "source": [
    "#trs=sum([max(x) for x in rsTr])/len(rsTr)\n",
    "p=1\n",
    "trs=(sum([(max(x))**p for x in rsTr])/len(rsTr))**(1/p)\n",
    "trs"
   ]
  },
  {
   "cell_type": "code",
   "execution_count": 38,
   "metadata": {
    "collapsed": true
   },
   "outputs": [],
   "source": [
    "rs=text_clf_nb.predict_proba(X_test)"
   ]
  },
  {
   "cell_type": "code",
   "execution_count": 60,
   "metadata": {
    "collapsed": false,
    "scrolled": true
   },
   "outputs": [
    {
     "name": "stdout",
     "output_type": "stream",
     "text": [
      "57 chale [0.11332278 0.05022813 0.83644909] pr far from true= [-0.16355091  0.83644909  0.83644909]\n",
      "68 chale [1.91335522e-05 9.51611310e-01 4.83695561e-02] pr far from true= [-0.04838869  0.95161131  0.95161131]\n",
      "152 chale [1.34868641e-09 4.57441860e-01 5.42558138e-01] pr far from true= [ 0.54255814  0.54255813 -0.45744186]\n",
      "187 chale [4.70825585e-05 9.82678851e-01 1.72740663e-02] pr far from true= [-0.01732115  0.98267885  0.98267885]\n",
      "201 chale [0.92186769 0.02100059 0.05713172] pr far from true= [-0.07813231  0.92186769  0.92186769]\n",
      "221 chale [4.48036081e-04 9.93033252e-01 6.51871195e-03] pr far from true= [-0.00696675  0.99303325  0.99303325]\n",
      "225 chale [0.49836349 0.01687536 0.48476114] pr far from true= [-0.50163651  0.49836349  0.49836349]\n",
      "262 chale [0.69456395 0.27571229 0.02972376] pr far from true= [ 0.69456395  0.69456394 -0.30543605]\n",
      "20 Locha [7.46892910e-05 9.99917294e-01 8.01712301e-06] extra by 0.00029595759356615403 pr far from true=\n",
      "118 Locha [6.98211735e-08 9.99999709e-01 2.20828475e-07] extra by 0.0003783733579799664 pr far from true=\n",
      "132 Locha [6.31847785e-10 9.99999999e-01 5.49557038e-10] extra by 0.00037866282625553804 pr far from true=\n",
      "145 Locha [4.42506052e-14 1.00000000e+00 9.09401998e-11] extra by 0.00037866391662599863 pr far from true=\n",
      "180 Locha [8.99947684e-07 9.99986435e-01 1.26649127e-05] extra by 0.00036509914722471226 pr far from true=\n",
      "208 Locha [9.99991589e-01 8.41129951e-06 8.56025555e-12] extra by 0.00037025269954937823 pr far from true=\n"
     ]
    }
   ],
   "source": [
    "for i in misClTs_nb:\n",
    "    if max(rs[i])<trs:#,\"less by\",-max(rs[i])+trs\n",
    "        print(i,\"chale\",rs[i],\"pr far from true=\",max(rs[i])-rs[text_clf_nb.classes_.tolist().index(Y_test.iloc[i])])\n",
    "for i in misClTs_nb:\n",
    "    if max(rs[i])>trs:\n",
    "        print(i,\"Locha\",rs[i],\"extra by\",max(rs[i])-trs,\"pr far from true=\",)\n",
    "#chale=>no catg has enough confidence on them\n",
    "#Locha=>wrong catg has confidence on them by <-->\n"
   ]
  },
  {
   "cell_type": "code",
   "execution_count": 58,
   "metadata": {
    "collapsed": false
   },
   "outputs": [],
   "source": [
    "trueCatg=text_clf_nb.classes_.tolist().index(Y_test.iloc[misClTs_nb[3]])\n"
   ]
  }
 ],
 "metadata": {
  "kernelspec": {
   "display_name": "Python 3",
   "language": "python",
   "name": "python3"
  },
  "language_info": {
   "codemirror_mode": {
    "name": "ipython",
    "version": 3
   },
   "file_extension": ".py",
   "mimetype": "text/x-python",
   "name": "python",
   "nbconvert_exporter": "python",
   "pygments_lexer": "ipython3",
   "version": "3.6.0"
  }
 },
 "nbformat": 4,
 "nbformat_minor": 2
}
